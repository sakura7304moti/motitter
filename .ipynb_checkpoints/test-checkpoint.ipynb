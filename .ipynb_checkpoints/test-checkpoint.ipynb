{
 "cells": [
  {
   "attachments": {},
   "cell_type": "markdown",
   "metadata": {},
   "source": [
    "## 動作テスト"
   ]
  },
  {
   "cell_type": "code",
   "execution_count": 1,
   "metadata": {},
   "outputs": [],
   "source": [
    "from src import moti"
   ]
  },
  {
   "cell_type": "code",
   "execution_count": 2,
   "metadata": {},
   "outputs": [
    {
     "name": "stderr",
     "output_type": "stream",
     "text": [
      "query:   0%|          | 0/67 [00:00<?, ?it/s]"
     ]
    },
    {
     "name": "stdout",
     "output_type": "stream",
     "text": [
      "update -> date : 7 ,\n",
      " limit : 100\n",
      "start #soraArt...\n"
     ]
    },
    {
     "name": "stderr",
     "output_type": "stream",
     "text": [
      "Skipping unrecognised entry ID: 'promoted-tweet-1654398661185638402-a8e839be7bd74d4'\n",
      "Skipping unrecognised entry ID: 'promoted-tweet-1655830163819728906-a8eac5abe682434'\n",
      "Skipping unrecognised entry ID: 'promoted-tweet-1647797591290302465-a8ead84023d287e'\n",
      "Skipping unrecognised entry ID: 'promoted-tweet-1651493149800529926-a8e4c75bb925724'\n",
      "Skipping unrecognised entry ID: 'promoted-tweet-1649246579260555265-a8ec64c0792d0e4'\n",
      "Skipping unrecognised entry ID: 'promoted-tweet-1656509439225249793-a8e7aa79528cb9e'\n",
      "Skipping unrecognised entry ID: 'promoted-tweet-1656529566859665408-a8e5af7e84e13f5'\n",
      "Skipping unrecognised entry ID: 'promoted-tweet-1650530036707913729-a8eeb2981bef478'\n",
      "Skipping unrecognised entry ID: 'promoted-tweet-1654750469019844609-a8ef8f0fa2edd27'\n",
      "Skipping unrecognised entry ID: 'promoted-tweet-1653610333909467136-a8e6fb5219b65bc'\n",
      "Skipping unrecognised entry ID: 'promoted-tweet-1651493210911576064-a8e5860c0416a2a'\n",
      "Skipping unrecognised entry ID: 'promoted-tweet-1648886682702483457-a8eabb8b59c1710'\n",
      "Skipping unrecognised entry ID: 'promoted-tweet-1651493149800529926-a8fc841f02b1598'\n",
      "Skipping unrecognised entry ID: 'promoted-tweet-1656690632356950016-a8f28b9d50cdd40'\n",
      "Skipping unrecognised entry ID: 'promoted-tweet-1654750469019844609-a8f4cdc7d372486'\n",
      "Skipping unrecognised entry ID: 'promoted-tweet-1651493149800529926-a8fb4c96381e5fc'\n",
      "Skipping unrecognised entry ID: 'promoted-tweet-1648895801702375424-a8f9faa4d9998ef'\n",
      "query:   1%|▏         | 1/67 [00:05<05:32,  5.04s/it]"
     ]
    },
    {
     "name": "stdout",
     "output_type": "stream",
     "text": [
      "update -> date : 7 ,\n",
      " limit : 100\n",
      "start #ロボ子Art...\n"
     ]
    },
    {
     "name": "stderr",
     "output_type": "stream",
     "text": [
      "Skipping unrecognised entry ID: 'promoted-tweet-1646527366519468034-a8f10c5126980b3'\n",
      "Skipping unrecognised entry ID: 'promoted-tweet-1625200116083703808-a8f2d6b0c2b4ba9'\n",
      "Skipping unrecognised entry ID: 'promoted-tweet-1654509917363924993-a8fa3aa9cf7a3a7'\n",
      "Skipping unrecognised entry ID: 'promoted-tweet-1646527366519468034-a8f638072f4de2a'\n",
      "Skipping unrecognised entry ID: 'promoted-tweet-1625200116083703808-a8fd3c857831bb3'\n",
      "Skipping unrecognised entry ID: 'promoted-tweet-1656794059577360387-a8fd65677de7982'\n",
      "Skipping unrecognised entry ID: 'promoted-tweet-1646527366519468034-a8f4567562dccd5'\n",
      "Skipping unrecognised entry ID: 'promoted-tweet-1625200116083703808-a8fa770f442f218'\n",
      "Skipping unrecognised entry ID: 'promoted-tweet-1656794059577360387-a8fafeddf2856cf'\n",
      "Skipping unrecognised entry ID: 'promoted-tweet-1656794059577360387-a8f0e69b4af730f'\n",
      "Skipping unrecognised entry ID: 'promoted-tweet-1657200289949310979-a8fb2c9fc6764d1'\n",
      "Skipping unrecognised entry ID: 'promoted-tweet-1655882808017973248-a8f1fb5b8a9a064'\n",
      "Skipping unrecognised entry ID: 'promoted-tweet-1625200116083703808-a8f23592a5bf819'\n",
      "Skipping unrecognised entry ID: 'promoted-tweet-1656794059577360387-a8f5d915436d5cb'\n",
      "query:   3%|▎         | 2/67 [00:08<04:35,  4.24s/it]"
     ]
    },
    {
     "name": "stdout",
     "output_type": "stream",
     "text": [
      "update -> date : 7 ,\n",
      " limit : 100\n",
      "start #miko_Art...\n"
     ]
    },
    {
     "name": "stderr",
     "output_type": "stream",
     "text": [
      "Skipping unrecognised entry ID: 'promoted-tweet-1625200116083703808-a8f8554203a05d8'\n",
      "Skipping unrecognised entry ID: 'promoted-tweet-1656794059577360387-a8fe85cc2e2849a'\n",
      "Skipping unrecognised entry ID: 'promoted-tweet-1648895801702375424-a8f1cf4caa5ffbd'\n",
      "Skipping unrecognised entry ID: 'promoted-tweet-1646527366519468034-a8ff6c7d8bee139'\n",
      "Skipping unrecognised entry ID: 'promoted-tweet-1625200116083703808-a8f84359fcc5b07'\n",
      "Skipping unrecognised entry ID: 'promoted-tweet-1656794059577360387-a8f9fee1e98ca89'\n",
      "Skipping unrecognised entry ID: 'promoted-tweet-1646527366519468034-a8f9f6b6479b1a3'\n",
      "Skipping unrecognised entry ID: 'promoted-tweet-1625200116083703808-a8f322ec10f0f6d'\n",
      "Skipping unrecognised entry ID: 'promoted-tweet-1656794059577360387-a8f0e7c35c7a542'\n",
      "Skipping unrecognised entry ID: 'promoted-tweet-1646527366519468034-a8fd0e2c6d0e3e9'\n",
      "Skipping unrecognised entry ID: 'promoted-tweet-1625200116083703808-a8f450b8fee9530'\n",
      "Skipping unrecognised entry ID: 'promoted-tweet-1656794059577360387-a8f695a7776359b'\n",
      "Skipping unrecognised entry ID: 'promoted-tweet-1646527366519468034-a8feb5b3f3f1833'\n",
      "Skipping unrecognised entry ID: 'promoted-tweet-1625200116083703808-a8fed1fef286fd3'\n",
      "Skipping unrecognised entry ID: 'promoted-tweet-1654509917363924993-a8f77d7a948b33d'\n",
      "Skipping unrecognised entry ID: 'promoted-tweet-1646527366519468034-a8f54a5a88a710c'\n",
      "Skipping unrecognised entry ID: 'promoted-tweet-1625200116083703808-a8f52a22824ead3'\n",
      "Skipping unrecognised entry ID: 'promoted-tweet-1656791291689050115-a8f920bfed1cf21'\n",
      "Skipping unrecognised entry ID: 'promoted-tweet-1625200116083703808-a8f5c108e89768d'\n",
      "Skipping unrecognised entry ID: 'promoted-tweet-1654509917363924993-a8ffa3c414b2c61'\n",
      "Skipping unrecognised entry ID: 'promoted-tweet-1651493149800529926-a8ff64076847a09'\n",
      "Skipping unrecognised entry ID: 'promoted-tweet-1646527366519468034-a8f9746bc4567c6'\n",
      "Skipping unrecognised entry ID: 'promoted-tweet-1625200116083703808-a8f8deccc19e86e'\n",
      "Skipping unrecognised entry ID: 'promoted-tweet-1656794059577360387-a8fdc8b17a8455e'\n",
      "query:   4%|▍         | 3/67 [00:14<05:09,  4.84s/it]"
     ]
    },
    {
     "name": "stdout",
     "output_type": "stream",
     "text": [
      "Tweet count : 100update -> date : 7 ,\n",
      " limit : 100\n",
      "start #ほしまちぎゃらりー...\n"
     ]
    },
    {
     "name": "stderr",
     "output_type": "stream",
     "text": [
      "Skipping unrecognised entry ID: 'promoted-tweet-1607488378693378049-a8f4dec81afb7ef'\n",
      "Skipping unrecognised entry ID: 'promoted-tweet-1652878006711615489-a8f4beb193f6826'\n",
      "Skipping unrecognised entry ID: 'promoted-tweet-1656826528066420739-a8f107a0a99e5f7'\n",
      "Skipping unrecognised entry ID: 'promoted-tweet-1651493149800529926-a8f27bae4dcda28'\n",
      "Skipping unrecognised entry ID: 'promoted-tweet-1607488378693378049-a8fc439135d2601'\n",
      "Skipping unrecognised entry ID: 'promoted-tweet-1656509438575149056-a8fd80ea81ae478'\n",
      "Skipping unrecognised entry ID: 'promoted-tweet-1651493149800529926-a8f63d1b19f63dd'\n",
      "Skipping unrecognised entry ID: 'promoted-tweet-1607488378693378049-a8ff635fefa5656'\n",
      "Skipping unrecognised entry ID: 'promoted-tweet-1656509438575149056-a8feb4e462c5574'\n",
      "Skipping unrecognised entry ID: 'promoted-tweet-1653610333909467136-a8f1649c108b4ff'\n",
      "Skipping unrecognised entry ID: 'promoted-tweet-1651493149800529926-a8f0b7e9a15d56b'\n",
      "Skipping unrecognised entry ID: 'promoted-tweet-1607488378693378049-a8fd700f857fe6f'\n",
      "Skipping unrecognised entry ID: 'promoted-tweet-1651493149800529926-a8f0d650151d7df'\n",
      "Skipping unrecognised entry ID: 'promoted-tweet-1652878006711615489-a8fb4895c96202a'\n",
      "Skipping unrecognised entry ID: 'promoted-tweet-1656690632356950016-a8f42d7062da956'\n",
      "Skipping unrecognised entry ID: 'promoted-tweet-1653610333909467136-a8fa6f2c6e8ad77'\n",
      "Skipping unrecognised entry ID: 'promoted-tweet-1648895801702375424-a8f719ea6afeae0'\n",
      "Skipping unrecognised entry ID: 'promoted-tweet-1656826528066420739-a8ff9c2fcbaeb35'\n",
      "Skipping unrecognised entry ID: 'promoted-tweet-1651493210911576064-a8f53e2af01b6aa'\n",
      "Skipping unrecognised entry ID: 'promoted-tweet-1655882806185152512-a8fb4e6e409df86'\n",
      "Skipping unrecognised entry ID: 'promoted-tweet-1656266235602935810-a8fe7a06b216c0f'\n",
      "Skipping unrecognised entry ID: 'promoted-tweet-1651493149800529926-a8f9b727c158515'\n",
      "query:   6%|▌         | 4/67 [00:20<05:30,  5.25s/it]"
     ]
    },
    {
     "name": "stdout",
     "output_type": "stream",
     "text": [
      "Tweet count : 100update -> date : 7 ,\n",
      " limit : 100\n",
      "start #AZKiART...\n"
     ]
    },
    {
     "name": "stderr",
     "output_type": "stream",
     "text": [
      "Skipping unrecognised entry ID: 'promoted-tweet-1651057006726266880-a8f157141f16559'\n",
      "Skipping unrecognised entry ID: 'promoted-tweet-1648895801702375424-a8fa9239f84369d'\n",
      "Skipping unrecognised entry ID: 'promoted-tweet-1652689265409552384-a8f87b32bdb95c7'\n",
      "Skipping unrecognised entry ID: 'promoted-tweet-1653610333909467136-a8f994aff770b08'\n",
      "Skipping unrecognised entry ID: 'promoted-tweet-1650530036707913729-a8feae70878c7e5'\n",
      "Skipping unrecognised entry ID: 'promoted-tweet-1651493210911576064-a8f9bbf0ce4ee96'\n",
      "Skipping unrecognised entry ID: 'promoted-tweet-1651493149800529926-a8ff0b7ccd6363b'\n",
      "Skipping unrecognised entry ID: 'promoted-tweet-1607488378693378049-a8f0d92438669e3'\n",
      "Skipping unrecognised entry ID: 'promoted-tweet-1648895801702375424-a8f043214062075'\n",
      "Skipping unrecognised entry ID: 'promoted-tweet-1651493149800529926-a8fe457c8bd1801'\n",
      "Skipping unrecognised entry ID: 'promoted-tweet-1654398661185638402-a8fcf2eb44934d5'\n",
      "Skipping unrecognised entry ID: 'promoted-tweet-1648886682702483457-a8f63595537f8ef'\n",
      "Skipping unrecognised entry ID: 'promoted-tweet-1651493149800529926-a8fd55e9eae0197'\n",
      "Skipping unrecognised entry ID: 'promoted-tweet-1652878006711615489-a8f80651225171b'\n",
      "Skipping unrecognised entry ID: 'promoted-tweet-1650530036707913729-a8f691041db6e1f'\n",
      "query:   7%|▋         | 5/67 [00:24<05:13,  5.06s/it]"
     ]
    },
    {
     "name": "stdout",
     "output_type": "stream",
     "text": [
      "update -> date : 7 ,\n",
      " limit : 100\n",
      "start #メルArt...\n"
     ]
    },
    {
     "name": "stderr",
     "output_type": "stream",
     "text": [
      "Skipping unrecognised entry ID: 'promoted-tweet-1625200116083703808-a8fe23625662db4'\n",
      "Skipping unrecognised entry ID: 'promoted-tweet-1656794059577360387-a8f60cb02c049a5'\n",
      "Skipping unrecognised entry ID: 'promoted-tweet-1655830163819728906-a8f06836d7d78f3'\n",
      "Skipping unrecognised entry ID: 'promoted-tweet-1625200116083703808-a8f5cc22912155d'\n",
      "Skipping unrecognised entry ID: 'promoted-tweet-1656794059577360387-a8f968b0bea6c6e'\n",
      "Skipping unrecognised entry ID: 'promoted-tweet-1646527366519468034-a8f26516521c786'\n",
      "Skipping unrecognised entry ID: 'promoted-tweet-1646527366519468034-a8f7f6edf20184e'\n",
      "Skipping unrecognised entry ID: 'promoted-tweet-1649110096662724608-a8fa43a832cf84c'\n",
      "Skipping unrecognised entry ID: 'promoted-tweet-1656794059577360387-a8f6b8faf6d1c61'\n",
      "Skipping unrecognised entry ID: 'promoted-tweet-1646527366519468034-a8fbc6f30d54902'\n",
      "Skipping unrecognised entry ID: 'promoted-tweet-1625200116083703808-a8f2248f4dbad6a'\n",
      "Skipping unrecognised entry ID: 'promoted-tweet-1656794059577360387-a8f4fde6706234e'\n",
      "Skipping unrecognised entry ID: 'promoted-tweet-1625200116083703808-a8f82783d1d7e9c'\n",
      "query:   9%|▉         | 6/67 [00:28<04:38,  4.56s/it]"
     ]
    },
    {
     "name": "stdout",
     "output_type": "stream",
     "text": [
      "update -> date : 7 ,\n",
      " limit : 100\n",
      "start #アロ絵...\n"
     ]
    },
    {
     "name": "stderr",
     "output_type": "stream",
     "text": [
      "Skipping unrecognised entry ID: 'promoted-tweet-1651493149800529926-a8f3bed7ddfc7ce'\n",
      "Skipping unrecognised entry ID: 'promoted-tweet-1650530036707913729-a8f9d46cc486b4f'\n",
      "Skipping unrecognised entry ID: 'promoted-tweet-1652878005738299394-a8fe898303c79db'\n",
      "Skipping unrecognised entry ID: 'promoted-tweet-1653610333909467136-a8ff0dc6effa8f2'\n",
      "Skipping unrecognised entry ID: 'promoted-tweet-1607488378693378049-a8fc1d08af6dd92'\n",
      "Skipping unrecognised entry ID: 'promoted-tweet-1656690632356950016-a8f2f74f9654493'\n",
      "Skipping unrecognised entry ID: 'promoted-tweet-1653610333909467136-a8f8dfd8f4939f0'\n",
      "Skipping unrecognised entry ID: 'promoted-tweet-1651493149800529926-a8fdbdd0b1954bb'\n",
      "Skipping unrecognised entry ID: 'promoted-tweet-1655830163819728906-a8fa864d55d9f37'\n",
      "Skipping unrecognised entry ID: 'promoted-tweet-1607488378693378049-a8f59fe16692cca'\n",
      "Skipping unrecognised entry ID: 'promoted-tweet-1648886682702483457-a8f8e6c981eeac1'\n",
      "Skipping unrecognised entry ID: 'promoted-tweet-1654750469019844609-a8f5b150b921e98'\n",
      "query:  10%|█         | 7/67 [00:31<04:00,  4.01s/it]"
     ]
    },
    {
     "name": "stdout",
     "output_type": "stream",
     "text": [
      "update -> date : 7 ,\n",
      " limit : 100\n",
      "start #はあとart...\n"
     ]
    },
    {
     "name": "stderr",
     "output_type": "stream",
     "text": [
      "Skipping unrecognised entry ID: 'promoted-tweet-1625200116083703808-a8f57169251af2f'\n",
      "Skipping unrecognised entry ID: 'promoted-tweet-1656794059577360387-a8ff77e69b26aca'\n",
      "Skipping unrecognised entry ID: 'promoted-tweet-1607488378693378049-a8fe4b3387702d0'\n",
      "Skipping unrecognised entry ID: 'promoted-tweet-1646527366519468034-a8f8d875ba32cce'\n",
      "Skipping unrecognised entry ID: 'promoted-tweet-1625200116083703808-a8f8d04f8511970'\n",
      "Skipping unrecognised entry ID: 'promoted-tweet-1656794059577360387-a8f7433a4dbf7ca'\n",
      "Skipping unrecognised entry ID: 'promoted-tweet-1646527366519468034-a8fc712e7af0e1d'\n",
      "Skipping unrecognised entry ID: 'promoted-tweet-1649110096662724608-a8fff7bf6d8e977'\n",
      "Skipping unrecognised entry ID: 'promoted-tweet-1656794059577360387-a8f5741ca53c49d'\n",
      "Skipping unrecognised entry ID: 'promoted-tweet-1646527366519468034-a8f88ebcf9e0c1a'\n",
      "Skipping unrecognised entry ID: 'promoted-tweet-1625200116083703808-a8f96b95323272d'\n",
      "query:  12%|█▏        | 8/67 [00:34<03:35,  3.65s/it]"
     ]
    },
    {
     "name": "stdout",
     "output_type": "stream",
     "text": [
      "update -> date : 7 ,\n",
      " limit : 100\n",
      "start #絵フブキ...\n"
     ]
    },
    {
     "name": "stderr",
     "output_type": "stream",
     "text": [
      "Skipping unrecognised entry ID: 'promoted-tweet-1656690632356950016-a8f298860016781'\n",
      "Skipping unrecognised entry ID: 'promoted-tweet-1651493210911576064-a8f7a9386cf1898'\n",
      "Skipping unrecognised entry ID: 'promoted-tweet-1652341978749710338-a8fb5f818223a36'\n",
      "Skipping unrecognised entry ID: 'promoted-tweet-1648895801702375424-a8ffc5add607d01'\n",
      "Skipping unrecognised entry ID: 'promoted-tweet-1656826528066420739-a8f4357865b6dac'\n",
      "Skipping unrecognised entry ID: 'promoted-tweet-1655769783785369600-a8f860f5385d365'\n",
      "Skipping unrecognised entry ID: 'promoted-tweet-1652878006711615489-a8f4d07de1789f8'\n",
      "Skipping unrecognised entry ID: 'promoted-tweet-1656690632356950016-a8ffd6bb4642e67'\n",
      "Skipping unrecognised entry ID: 'promoted-tweet-1651493210911576064-a8f8475183eafe6'\n",
      "Skipping unrecognised entry ID: 'promoted-tweet-1653610333909467136-a8fb3d59b971669'\n",
      "Skipping unrecognised entry ID: 'promoted-tweet-1607488378693378049-a8f58db6a3c5b02'\n",
      "Skipping unrecognised entry ID: 'promoted-tweet-1648886682702483457-a8f2baab6792fb0'\n",
      "Skipping unrecognised entry ID: 'promoted-tweet-1653610333909467136-a8ff615829ca490'\n",
      "Skipping unrecognised entry ID: 'promoted-tweet-1651493149800529926-a8fc2f871d0fb78'\n",
      "Skipping unrecognised entry ID: 'promoted-tweet-1607488378693378049-a8ff0d6e462a113'\n",
      "Skipping unrecognised entry ID: 'promoted-tweet-1653610333909467136-a8fe790af40c952'\n",
      "Skipping unrecognised entry ID: 'promoted-tweet-1651493149800529926-a8fb8e78347649b'\n",
      "Skipping unrecognised entry ID: 'promoted-tweet-1648895801702375424-a8fb7fa8ae39841'\n",
      "Skipping unrecognised entry ID: 'promoted-tweet-1651493149800529926-a8fcc41e8274782'\n",
      "Skipping unrecognised entry ID: 'promoted-tweet-1607488378693378049-a8fbe32cd776edc'\n",
      "Skipping unrecognised entry ID: 'promoted-tweet-1649442880312819712-a8fc932b97179a2'\n",
      "query:  13%|█▎        | 9/67 [00:39<04:00,  4.15s/it]"
     ]
    },
    {
     "name": "stdout",
     "output_type": "stream",
     "text": [
      "Tweet count : 100update -> date : 7 ,\n",
      " limit : 100\n",
      "start #祭絵...\n"
     ]
    },
    {
     "name": "stderr",
     "output_type": "stream",
     "text": [
      "Skipping unrecognised entry ID: 'promoted-tweet-1648895801702375424-a8faacfd0ee8f98'\n",
      "Skipping unrecognised entry ID: 'promoted-tweet-1652878006711615489-a8f62b1b7f0fe57'\n",
      "Skipping unrecognised entry ID: 'promoted-tweet-1656266235376484353-a8f26d78b6c99a7'\n",
      "Skipping unrecognised entry ID: 'promoted-tweet-1656690632356950016-a8f8e5d39e24a7c'\n",
      "Skipping unrecognised entry ID: 'promoted-tweet-1607488378693378049-a8f261a6633ec1e'\n",
      "Skipping unrecognised entry ID: 'promoted-tweet-1655882805010739205-a8fe9e63da2f2e7'\n",
      "Skipping unrecognised entry ID: 'promoted-tweet-1651493149800529926-a8f3c436ede8c33'\n",
      "Skipping unrecognised entry ID: 'promoted-tweet-1653610333909467136-a8f059722bb4347'\n",
      "Skipping unrecognised entry ID: 'promoted-tweet-1648895801702375424-a8f675ca6d4eda6'\n",
      "Skipping unrecognised entry ID: 'promoted-tweet-1652878005738299394-a8f90f51712ada5'\n",
      "Skipping unrecognised entry ID: 'promoted-tweet-1656178972844244993-a8f6a3df77fb6ce'\n",
      "Skipping unrecognised entry ID: 'promoted-tweet-1647797591290302465-a8fd8881e926dc4'\n",
      "Skipping unrecognised entry ID: 'promoted-tweet-1607488378693378049-a8f231318072c43'\n",
      "Skipping unrecognised entry ID: 'promoted-tweet-1652878006711615489-a8fde180bc9e742'\n",
      "Skipping unrecognised entry ID: 'promoted-tweet-1656690632356950016-a8f89b17bb5b45f'\n",
      "query:  15%|█▍        | 10/67 [00:43<03:49,  4.02s/it]"
     ]
    },
    {
     "name": "stdout",
     "output_type": "stream",
     "text": [
      "update -> date : 7 ,\n",
      " limit : 100\n",
      "start #あくあーと...\n"
     ]
    },
    {
     "name": "stderr",
     "output_type": "stream",
     "text": [
      "Skipping unrecognised entry ID: 'promoted-tweet-1651493149800529926-a8f1d18d9b531bc'\n",
      "Skipping unrecognised entry ID: 'promoted-tweet-1650530036707913729-a8f58e51d89e3bd'\n",
      "Skipping unrecognised entry ID: 'promoted-tweet-1656266235481411584-a8fb8c8b31c2086'\n",
      "Skipping unrecognised entry ID: 'promoted-tweet-1653610333909467136-a8ff87a4c13a242'\n",
      "Skipping unrecognised entry ID: 'promoted-tweet-1607488378693378049-a8fcc7d852301d3'\n",
      "Skipping unrecognised entry ID: 'promoted-tweet-1648886682702483457-a8f5584de29376e'\n",
      "Skipping unrecognised entry ID: 'promoted-tweet-1648895801702375424-a8f0738ae6bddbb'\n",
      "Skipping unrecognised entry ID: 'promoted-tweet-1654750469019844609-a8fd81c8c306a58'\n",
      "Skipping unrecognised entry ID: 'promoted-tweet-1654528689475043330-a8f24ff57442997'\n",
      "Skipping unrecognised entry ID: 'promoted-tweet-1648895801702375424-a8fe8cc72965ce5'\n",
      "Skipping unrecognised entry ID: 'promoted-tweet-1652878005738299394-a8f7767e70ad2af'\n",
      "Skipping unrecognised entry ID: 'promoted-tweet-1651370429561577472-a8fe97743c756dc'\n",
      "Skipping unrecognised entry ID: 'promoted-tweet-1653610333909467136-a8f6d3515270272'\n",
      "Skipping unrecognised entry ID: 'promoted-tweet-1607488378693378049-a8f52191255f802'\n",
      "Skipping unrecognised entry ID: 'promoted-tweet-1650530036707913729-a8f32a99315ea32'\n",
      "Skipping unrecognised entry ID: 'promoted-tweet-1649246579260555265-a8f16ede9787760'\n",
      "Skipping unrecognised entry ID: 'promoted-tweet-1648895801702375424-a8f180172d72588'\n",
      "Skipping unrecognised entry ID: 'promoted-tweet-1655882808017973248-a8f21f60410d448'\n",
      "Skipping unrecognised entry ID: 'promoted-tweet-1648895801702375424-a8f28150f26d397'\n",
      "Skipping unrecognised entry ID: 'promoted-tweet-1652878006711615489-a8f7de918d611de'\n",
      "Skipping unrecognised entry ID: 'promoted-tweet-1651493210911576064-a8fa71ea0ebe8b9'\n",
      "query:  16%|█▋        | 11/67 [00:48<04:08,  4.43s/it]"
     ]
    },
    {
     "name": "stdout",
     "output_type": "stream",
     "text": [
      "Tweet count : 100update -> date : 7 ,\n",
      " limit : 100\n",
      "start #シオンの書物...\n"
     ]
    },
    {
     "name": "stderr",
     "output_type": "stream",
     "text": [
      "Skipping unrecognised entry ID: 'promoted-tweet-1651493149800529926-a8fab2d9d38f667'\n",
      "Skipping unrecognised entry ID: 'promoted-tweet-1649442880312819712-a8fb1e11fbaa690'\n",
      "Skipping unrecognised entry ID: 'promoted-tweet-1654528689881874432-a8f5733febef9b9'\n",
      "Skipping unrecognised entry ID: 'promoted-tweet-1651493149800529926-a8f1c137e3e29e8'\n",
      "Skipping unrecognised entry ID: 'promoted-tweet-1652878006711615489-a8f7a98390671ea'\n",
      "Skipping unrecognised entry ID: 'promoted-tweet-1656690632356950016-a8f868378e70b13'\n",
      "Skipping unrecognised entry ID: 'promoted-tweet-1651493149800529926-a8f64a84160741f'\n",
      "Skipping unrecognised entry ID: 'promoted-tweet-1656690632356950016-a8f7640093eb6ae'\n",
      "Skipping unrecognised entry ID: 'promoted-tweet-1654750469019844609-a8f9dce17d94c05'\n",
      "Skipping unrecognised entry ID: 'promoted-tweet-1651493149800529926-a8fb5a4488c9d5c'\n",
      "Skipping unrecognised entry ID: 'promoted-tweet-1652878006711615489-a8fd5b0a4e77fe0'\n",
      "Skipping unrecognised entry ID: 'promoted-tweet-1650530036707913729-a8f27cdfbb74ccf'\n",
      "Skipping unrecognised entry ID: 'promoted-tweet-1648886682702483457-a8fe8126989c905'\n",
      "Skipping unrecognised entry ID: 'promoted-tweet-1654750469019844609-a8f507b32f2faf5'\n",
      "Skipping unrecognised entry ID: 'promoted-tweet-1647797591290302465-a8f3bd91c595931'\n",
      "Skipping unrecognised entry ID: 'promoted-tweet-1651493149800529926-a8fbc6231a4f20f'\n",
      "Skipping unrecognised entry ID: 'promoted-tweet-1648895801702375424-a8fbd6b3b437fa6'\n",
      "Skipping unrecognised entry ID: 'promoted-tweet-1655882805010739205-a8f7fa142955977'\n",
      "Skipping unrecognised entry ID: 'promoted-tweet-1607488378693378049-a8f1d3107e87975'\n",
      "Skipping unrecognised entry ID: 'promoted-tweet-1652878006711615489-a8fe70fcfeffbf3'\n",
      "Skipping unrecognised entry ID: 'promoted-tweet-1656690632356950016-a8fb95436a81686'\n",
      "query:  18%|█▊        | 12/67 [00:53<04:14,  4.62s/it]"
     ]
    },
    {
     "name": "stdout",
     "output_type": "stream",
     "text": [
      "update -> date : 7 ,\n",
      " limit : 100\n",
      "start #しょこらーと...\n"
     ]
    },
    {
     "name": "stderr",
     "output_type": "stream",
     "text": [
      "Skipping unrecognised entry ID: 'promoted-tweet-1651057006726266880-a8f04b0040be02d'\n",
      "Skipping unrecognised entry ID: 'promoted-tweet-1653610333909467136-a8f215303210611'\n",
      "Skipping unrecognised entry ID: 'promoted-tweet-1649442880312819712-a8f7212fadf9b41'\n",
      "Skipping unrecognised entry ID: 'promoted-tweet-1656690632356950016-a8f5b74997a944b'\n",
      "Skipping unrecognised entry ID: 'promoted-tweet-1654398661185638402-a8f0ec7db31fc40'\n",
      "Skipping unrecognised entry ID: 'promoted-tweet-1651493210911576064-a8f84bfdfdf84fd'\n",
      "Skipping unrecognised entry ID: 'promoted-tweet-1653610333909467136-a8ff0d5ed8f4051'\n",
      "Skipping unrecognised entry ID: 'promoted-tweet-1651493149800529926-a8fe758140cc7ca'\n",
      "Skipping unrecognised entry ID: 'promoted-tweet-1607488378693378049-a8f212e3ef81ed7'\n",
      "Skipping unrecognised entry ID: 'promoted-tweet-1654398661185638402-a8f93290a40e2d7'\n",
      "Skipping unrecognised entry ID: 'promoted-tweet-1656178972844244993-a8fca960e468bb6'\n",
      "Skipping unrecognised entry ID: 'promoted-tweet-1647797591290302465-a8f475c9199189c'\n",
      "Skipping unrecognised entry ID: 'promoted-tweet-1651493149800529926-a8f4ea42e3ba4fb'\n",
      "query:  19%|█▉        | 13/67 [00:57<03:55,  4.36s/it]"
     ]
    },
    {
     "name": "stdout",
     "output_type": "stream",
     "text": [
      "update -> date : 7 ,\n",
      " limit : 100\n",
      "start #プロテインザスバル...\n"
     ]
    },
    {
     "name": "stderr",
     "output_type": "stream",
     "text": [
      "Skipping unrecognised entry ID: 'promoted-tweet-1651493149800529926-a8f32647bd99062'\n",
      "Skipping unrecognised entry ID: 'promoted-tweet-1649442880312819712-a8f250c0ab07091'\n",
      "Skipping unrecognised entry ID: 'promoted-tweet-1652878008284508161-a8f4c323f8d26bd'\n",
      "Skipping unrecognised entry ID: 'promoted-tweet-1655882808017973248-a8fe2b0e848e61a'\n",
      "Skipping unrecognised entry ID: 'promoted-tweet-1650530036707913729-a8faa85c0409320'\n",
      "Skipping unrecognised entry ID: 'promoted-tweet-1607488378693378049-a8f09db565559ca'\n",
      "Skipping unrecognised entry ID: 'promoted-tweet-1607488378693378049-a8f81a4cfae39fc'\n",
      "Skipping unrecognised entry ID: 'promoted-tweet-1656509438575149056-a8f9ab6fd35d1e0'\n",
      "Skipping unrecognised entry ID: 'promoted-tweet-1655830163819728906-a8f8774e407765f'\n",
      "Skipping unrecognised entry ID: 'promoted-tweet-1651493149800529926-a8f876b920d3725'\n",
      "Skipping unrecognised entry ID: 'promoted-tweet-1607488378693378049-a8f6e02979d0e10'\n",
      "Skipping unrecognised entry ID: 'promoted-tweet-1656509438575149056-a8f76f9cd459eff'\n",
      "Skipping unrecognised entry ID: 'promoted-tweet-1651493149800529926-a8f5c8ef9b4d2ab'\n",
      "Skipping unrecognised entry ID: 'promoted-tweet-1651057006671699973-a8f277157ed96f0'\n",
      "Skipping unrecognised entry ID: 'promoted-tweet-1656690632356950016-a8f6aca85458a15'\n",
      "Skipping unrecognised entry ID: 'promoted-tweet-1651493149800529926-a8f7954ff182a81'\n",
      "Skipping unrecognised entry ID: 'promoted-tweet-1648895801702375424-a8f53243f67e62d'\n",
      "Skipping unrecognised entry ID: 'promoted-tweet-1652878005738299394-a8fbdc361ca4c45'\n",
      "Skipping unrecognised entry ID: 'promoted-tweet-1651057006671699973-a8ff4b881a1e3ba'\n",
      "Skipping unrecognised entry ID: 'promoted-tweet-1653610333909467136-a8f8ecda95d4e83'\n",
      "Skipping unrecognised entry ID: 'promoted-tweet-1648895801702375424-a8fb7cf7cf5def2'\n",
      "Skipping unrecognised entry ID: 'promoted-tweet-1651493149800529926-a8f65dd8d62adf8'\n",
      "query:  21%|██        | 14/67 [01:03<04:14,  4.79s/it]"
     ]
    },
    {
     "name": "stdout",
     "output_type": "stream",
     "text": [
      "Tweet count : 100update -> date : 7 ,\n",
      " limit : 100\n",
      "start #百鬼絵巻...\n"
     ]
    },
    {
     "name": "stderr",
     "output_type": "stream",
     "text": [
      "Skipping unrecognised entry ID: 'promoted-tweet-1651493149800529926-a8fd6126f7a0d21'\n",
      "Skipping unrecognised entry ID: 'promoted-tweet-1652878006711615489-a8f4e53055b82f3'\n",
      "Skipping unrecognised entry ID: 'promoted-tweet-1648886682702483457-a8f726f9050adda'\n",
      "Skipping unrecognised entry ID: 'promoted-tweet-1656690632356950016-a8fcd47b429fbd1'\n",
      "Skipping unrecognised entry ID: 'promoted-tweet-1651493210911576064-a8f2e745791f940'\n",
      "Skipping unrecognised entry ID: 'promoted-tweet-1653066760524890112-a8f9ab425bbac5d'\n",
      "Skipping unrecognised entry ID: 'promoted-tweet-1648886682702483457-a8f3ac7b5991ea1'\n",
      "Skipping unrecognised entry ID: 'promoted-tweet-1638201300843151360-a8fc0c5af67800b'\n",
      "Skipping unrecognised entry ID: 'promoted-tweet-1656781231898648576-a8f97b6cc05aa15'\n",
      "Skipping unrecognised entry ID: 'promoted-tweet-1650530036707913729-a8f4a99fa510b8a'\n",
      "Skipping unrecognised entry ID: 'promoted-tweet-1654398661185638402-a8fd7db131b08f5'\n",
      "Skipping unrecognised entry ID: 'promoted-tweet-1647797467474448385-a8ffe2bc5c1a23b'\n",
      "Skipping unrecognised entry ID: 'promoted-tweet-1653610333909467136-a8f290322469313'\n",
      "Skipping unrecognised entry ID: 'promoted-tweet-1651493149800529926-a8fa4c723e06bbb'\n",
      "Skipping unrecognised entry ID: 'promoted-tweet-1607488378693378049-a8fa4cc6369505d'\n",
      "Skipping unrecognised entry ID: 'promoted-tweet-1651493149800529926-a8fcff6de102255'\n",
      "Skipping unrecognised entry ID: 'promoted-tweet-1648895801702375424-a8f669cfbe4ff64'\n",
      "Skipping unrecognised entry ID: 'promoted-tweet-1654398661185638402-a8fd7cba00f186d'\n",
      "Skipping unrecognised entry ID: 'promoted-tweet-1652878006711615489-a8fabf758b7117b'\n",
      "Skipping unrecognised entry ID: 'promoted-tweet-1655830163819728906-a8f7617d753e95d'\n",
      "Skipping unrecognised entry ID: 'promoted-tweet-1654528689881874432-a8faf5ce0497e80'\n",
      "Skipping unrecognised entry ID: 'promoted-tweet-1650530036707913729-a8fe4f2022828fb'\n",
      "Skipping unrecognised entry ID: 'promoted-tweet-1655882806185152512-a8fdb0827c1e004'\n",
      "Skipping unrecognised entry ID: 'promoted-tweet-1647797591290302465-a8f382b3f1e87dd'\n",
      "query:  22%|██▏       | 15/67 [01:08<04:21,  5.03s/it]"
     ]
    },
    {
     "name": "stdout",
     "output_type": "stream",
     "text": [
      "Tweet count : 100update -> date : 7 ,\n",
      " limit : 100\n",
      "start #みおーん絵...\n"
     ]
    },
    {
     "name": "stderr",
     "output_type": "stream",
     "text": [
      "Skipping unrecognised entry ID: 'promoted-tweet-1651493149800529926-a8f66c81787bfef'\n",
      "Skipping unrecognised entry ID: 'promoted-tweet-1648895801702375424-a8fa358ef51f312'\n",
      "Skipping unrecognised entry ID: 'promoted-tweet-1654398661185638402-a8fb6f89acff55b'\n",
      "Skipping unrecognised entry ID: 'promoted-tweet-1651493149800529926-a8f0a26956148b5'\n",
      "Skipping unrecognised entry ID: 'promoted-tweet-1648895801702375424-a8f19ed184ee7b4'\n",
      "Skipping unrecognised entry ID: 'promoted-tweet-1655882808017973248-a8f544a119e4105'\n",
      "Skipping unrecognised entry ID: 'promoted-tweet-1651493149800529926-a8f81295809b9c1'\n",
      "Skipping unrecognised entry ID: 'promoted-tweet-1607488378693378049-a8f18760a0d3c35'\n",
      "Skipping unrecognised entry ID: 'promoted-tweet-1650530036707913729-a8f71a39e9d8a12'\n",
      "Skipping unrecognised entry ID: 'promoted-tweet-1653610333909467136-a8fa8b9a6e0cae8'\n",
      "Skipping unrecognised entry ID: 'promoted-tweet-1651493149800529926-a8fcf1c0b673554'\n",
      "Skipping unrecognised entry ID: 'promoted-tweet-1656690632356950016-a8f52aa9b9d9e6e'\n",
      "Skipping unrecognised entry ID: 'promoted-tweet-1653610333909467136-a8f7da9f748c37f'\n",
      "Skipping unrecognised entry ID: 'promoted-tweet-1648895801702375424-a8fa9fbec344df2'\n",
      "Skipping unrecognised entry ID: 'promoted-tweet-1651493149800529926-a8f567c019dfc96'\n",
      "Skipping unrecognised entry ID: 'promoted-tweet-1651493149800529926-a8f332bb76a3525'\n",
      "Skipping unrecognised entry ID: 'promoted-tweet-1656690632356950016-a8fc5e1500dbb5a'\n",
      "Skipping unrecognised entry ID: 'promoted-tweet-1652878005738299394-a8f1697a1946c89'\n",
      "Skipping unrecognised entry ID: 'promoted-tweet-1653610333909467136-a8f977a81ab58df'\n",
      "Skipping unrecognised entry ID: 'promoted-tweet-1651493149800529926-a8f1029816f01ee'\n",
      "Skipping unrecognised entry ID: 'promoted-tweet-1648895801702375424-a8f7a29b4b73565'\n",
      "query:  24%|██▍       | 16/67 [01:15<04:35,  5.40s/it]"
     ]
    },
    {
     "name": "stdout",
     "output_type": "stream",
     "text": [
      "Tweet count : 100update -> date : 7 ,\n",
      " limit : 100\n",
      "start #絵かゆ...\n"
     ]
    },
    {
     "name": "stderr",
     "output_type": "stream",
     "text": [
      "Skipping unrecognised entry ID: 'promoted-tweet-1652878006711615489-a8f12a97011a265'\n",
      "Skipping unrecognised entry ID: 'promoted-tweet-1655830163819728906-a8f917006761ff9'\n",
      "Skipping unrecognised entry ID: 'promoted-tweet-1651493210911576064-a8f3b77f68501e7'\n",
      "Skipping unrecognised entry ID: 'promoted-tweet-1652878006711615489-a8f3c8e32850fad'\n",
      "Skipping unrecognised entry ID: 'promoted-tweet-1650530036707913729-a8ff1f2c268f47b'\n",
      "Skipping unrecognised entry ID: 'promoted-tweet-1651493210911576064-a8f210d0e4ee0bd'\n",
      "Skipping unrecognised entry ID: 'promoted-tweet-1648895801702375424-a8f4e88078c8f30'\n",
      "Skipping unrecognised entry ID: 'promoted-tweet-1652878005738299394-a8f9989bb5ffdfd'\n",
      "Skipping unrecognised entry ID: 'promoted-tweet-1638201300843151360-a8f99bfa251d092'\n",
      "Skipping unrecognised entry ID: 'promoted-tweet-1656529566859665408-a8fe581c9d54ea4'\n",
      "Skipping unrecognised entry ID: 'promoted-tweet-1651493149800529926-a8f0228332449d0'\n",
      "Skipping unrecognised entry ID: 'promoted-tweet-1607488378693378049-a8f2377727fedf8'\n",
      "Skipping unrecognised entry ID: 'promoted-tweet-1653610333909467136-a8fc0dbd8956b27'\n",
      "Skipping unrecognised entry ID: 'promoted-tweet-1607488378693378049-a8ffd2213cbd74d'\n",
      "Skipping unrecognised entry ID: 'promoted-tweet-1655830163819728906-a8f0c1662a51440'\n",
      "Skipping unrecognised entry ID: 'promoted-tweet-1651493149800529926-a8f9573b5ee5535'\n",
      "Skipping unrecognised entry ID: 'promoted-tweet-1648886682702483457-a8f3df6962b9d4b'\n",
      "Skipping unrecognised entry ID: 'promoted-tweet-1652878005738299394-a8fba87283bd1ab'\n",
      "Skipping unrecognised entry ID: 'promoted-tweet-1648895801702375424-a8f5ea84c8e35fa'\n",
      "Skipping unrecognised entry ID: 'promoted-tweet-1651493149800529926-a8f55e7bade3a97'\n",
      "query:  25%|██▌       | 17/67 [01:19<04:23,  5.27s/it]"
     ]
    },
    {
     "name": "stdout",
     "output_type": "stream",
     "text": [
      "Tweet count : 100update -> date : 7 ,\n",
      " limit : 100\n",
      "start #できたてころね...\n"
     ]
    },
    {
     "name": "stderr",
     "output_type": "stream",
     "text": [
      "Skipping unrecognised entry ID: 'promoted-tweet-1652878006711615489-a8f06e0517d8c9a'\n",
      "Skipping unrecognised entry ID: 'promoted-tweet-1655830163819728906-a8f0639f74f2e6a'\n",
      "Skipping unrecognised entry ID: 'promoted-tweet-1647797591290302465-a8f5352f576c6cb'\n",
      "Skipping unrecognised entry ID: 'promoted-tweet-1653610333909467136-a8f21bd99e98934'\n",
      "Skipping unrecognised entry ID: 'promoted-tweet-1651057006671699973-a8f552364d0ef19'\n",
      "Skipping unrecognised entry ID: 'promoted-tweet-1649442880312819712-a8f9fe6b373af61'\n",
      "Skipping unrecognised entry ID: 'promoted-tweet-1607488378693378049-a8f037b339ffcc6'\n",
      "Skipping unrecognised entry ID: 'promoted-tweet-1654398661185638402-a8f51153ad5f591'\n",
      "Skipping unrecognised entry ID: 'promoted-tweet-1655830163819728906-a8fad8ad57f2c96'\n",
      "Skipping unrecognised entry ID: 'promoted-tweet-1607488378693378049-a8fb2ab5c9fa461'\n",
      "Skipping unrecognised entry ID: 'promoted-tweet-1648895801702375424-a8f8f556f2bd78f'\n",
      "Skipping unrecognised entry ID: 'promoted-tweet-1652878006711615489-a8f717b638dee01'\n",
      "Skipping unrecognised entry ID: 'promoted-tweet-1652878006711615489-a8fc234c67b05e9'\n",
      "Skipping unrecognised entry ID: 'promoted-tweet-1648895801702375424-a8f693ef7911913'\n",
      "Skipping unrecognised entry ID: 'promoted-tweet-1651370347734921216-a8f0284eb8109bc'\n",
      "Skipping unrecognised entry ID: 'promoted-tweet-1655882808017973248-a8f3c5303ad7162'\n",
      "Skipping unrecognised entry ID: 'promoted-tweet-1651493149800529926-a8ff20705e6c4c7'\n",
      "Skipping unrecognised entry ID: 'promoted-tweet-1607488378693378049-a8fa63ce040b289'\n",
      "Skipping unrecognised entry ID: 'promoted-tweet-1653610333909467136-a8f7dd21608783b'\n",
      "Skipping unrecognised entry ID: 'promoted-tweet-1607488378693378049-a8f605752f6496e'\n",
      "Skipping unrecognised entry ID: 'promoted-tweet-1657053022168711168-a8f040a24feec08'\n",
      "query:  27%|██▋       | 18/67 [01:25<04:16,  5.24s/it]"
     ]
    },
    {
     "name": "stdout",
     "output_type": "stream",
     "text": [
      "Tweet count : 100update -> date : 7 ,\n",
      " limit : 100\n",
      "start #ぺこらーと...\n"
     ]
    },
    {
     "name": "stderr",
     "output_type": "stream",
     "text": [
      "Skipping unrecognised entry ID: 'promoted-tweet-1656509438575149056-a8fbdd2c90d834f'\n",
      "Skipping unrecognised entry ID: 'promoted-tweet-1650530036707913729-a8f69ab9bdcf737'\n",
      "Skipping unrecognised entry ID: 'promoted-tweet-1651493210911576064-a8f8abe57851a3d'\n",
      "Skipping unrecognised entry ID: 'promoted-tweet-1653610333909467136-a8f4f2ade390f56'\n",
      "Skipping unrecognised entry ID: 'promoted-tweet-1651493149800529926-a8fbbbee0729981'\n",
      "Skipping unrecognised entry ID: 'promoted-tweet-1607488378693378049-a8fe981403092a1'\n",
      "Skipping unrecognised entry ID: 'promoted-tweet-1653610333909467136-a8ff070fb011875'\n",
      "Skipping unrecognised entry ID: 'promoted-tweet-1651493149800529926-a8f5cf8aaeacf8e'\n",
      "Skipping unrecognised entry ID: 'promoted-tweet-1607488378693378049-a8f8c192be73ccc'\n",
      "Skipping unrecognised entry ID: 'promoted-tweet-1651493149800529926-a8f955965eb9036'\n",
      "Skipping unrecognised entry ID: 'promoted-tweet-1653610333909467136-a8fccb1b79b7b7c'\n",
      "Skipping unrecognised entry ID: 'promoted-tweet-1607488378693378049-a8f9f0f186179fa'\n",
      "Skipping unrecognised entry ID: 'promoted-tweet-1648895801702375424-a8ffec9b572e96c'\n",
      "Skipping unrecognised entry ID: 'promoted-tweet-1656509438575149056-a8f49a85167467f'\n",
      "Skipping unrecognised entry ID: 'promoted-tweet-1651493210911576064-a8f785738786916'\n",
      "Skipping unrecognised entry ID: 'promoted-tweet-1651493149800529926-a8f7414e24d663f'\n",
      "Skipping unrecognised entry ID: 'promoted-tweet-1655830163819728906-a8fbd69c7e05b7e'\n",
      "Skipping unrecognised entry ID: 'promoted-tweet-1652878005738299394-a8f93cadba28f20'\n",
      "Skipping unrecognised entry ID: 'promoted-tweet-1656533194328641536-a8fd55a4fe40f45'\n",
      "Skipping unrecognised entry ID: 'promoted-tweet-1649442880312819712-a8fd7484886a44f'\n",
      "Skipping unrecognised entry ID: 'promoted-tweet-1652689265409552384-a8f2672283711c9'\n",
      "Skipping unrecognised entry ID: 'promoted-tweet-1651493149800529926-a8fcb2a89ecd1fa'\n",
      "Skipping unrecognised entry ID: 'promoted-tweet-1648895801702375424-a8f7e3d7cbc66d1'\n",
      "query:  28%|██▊       | 19/67 [01:30<04:19,  5.41s/it]"
     ]
    },
    {
     "name": "stdout",
     "output_type": "stream",
     "text": [
      "Tweet count : 100update -> date : 7 ,\n",
      " limit : 100\n",
      "start #絵クロマンサー...\n"
     ]
    },
    {
     "name": "stderr",
     "output_type": "stream",
     "text": [
      "Skipping unrecognised entry ID: 'promoted-tweet-1607488378693378049-a8f11f0106d45db'\n",
      "Skipping unrecognised entry ID: 'promoted-tweet-1656690632356950016-a8f46c60bc2fe41'\n",
      "Skipping unrecognised entry ID: 'promoted-tweet-1654398661185638402-a8f90befcb26219'\n",
      "Skipping unrecognised entry ID: 'promoted-tweet-1651493149800529926-a8f55a462f89f46'\n",
      "Skipping unrecognised entry ID: 'promoted-tweet-1655882808017973248-a8f2012f4c0d619'\n",
      "Skipping unrecognised entry ID: 'promoted-tweet-1650530036707913729-a8fc820e15de39f'\n",
      "Skipping unrecognised entry ID: 'promoted-tweet-1651493149800529926-a8f26839a0237de'\n",
      "Skipping unrecognised entry ID: 'promoted-tweet-1607488378693378049-a8f6540f4ba0b2e'\n",
      "Skipping unrecognised entry ID: 'promoted-tweet-1652878006711615489-a8f87bef478ca4f'\n",
      "query:  30%|██▉       | 20/67 [01:33<03:36,  4.61s/it]"
     ]
    },
    {
     "name": "stdout",
     "output_type": "stream",
     "text": [
      "update -> date : 7 ,\n",
      " limit : 100\n",
      "start #しらぬえ...\n"
     ]
    },
    {
     "name": "stderr",
     "output_type": "stream",
     "text": [
      "Skipping unrecognised entry ID: 'promoted-tweet-1651493149800529926-a8fe1669f7391d3'\n",
      "Skipping unrecognised entry ID: 'promoted-tweet-1656509439225249793-a8fbc10075b50c8'\n",
      "Skipping unrecognised entry ID: 'promoted-tweet-1657053028556451840-a8fe8addc0de89c'\n",
      "Skipping unrecognised entry ID: 'promoted-tweet-1651493149800529926-a8f611631815eb3'\n",
      "Skipping unrecognised entry ID: 'promoted-tweet-1656509438575149056-a8f9cc6f680a850'\n",
      "Skipping unrecognised entry ID: 'promoted-tweet-1656690632356950016-a8f68919b70581c'\n",
      "Skipping unrecognised entry ID: 'promoted-tweet-1607488378693378049-a8f1c4abc993475'\n",
      "Skipping unrecognised entry ID: 'promoted-tweet-1656690632356950016-a8fce89ff7c753d'\n",
      "Skipping unrecognised entry ID: 'promoted-tweet-1654398661185638402-a8f0b6c2fc259e9'\n",
      "Skipping unrecognised entry ID: 'promoted-tweet-1649246579260555265-a8f5204f61b96ce'\n",
      "Skipping unrecognised entry ID: 'promoted-tweet-1656690632356950016-a8fa3e809a7a0ab'\n",
      "Skipping unrecognised entry ID: 'promoted-tweet-1656245194067705856-a8f41c6a1571362'\n",
      "Skipping unrecognised entry ID: 'promoted-tweet-1652878006711615489-a8f9f7c1a1051a1'\n",
      "Skipping unrecognised entry ID: 'promoted-tweet-1648895801702375424-a8f7645af4e7972'\n",
      "Skipping unrecognised entry ID: 'promoted-tweet-1651493210911576064-a8fb30a73babac0'\n",
      "Skipping unrecognised entry ID: 'promoted-tweet-1653610333909467136-a8f6b93505bbd5c'\n",
      "Skipping unrecognised entry ID: 'promoted-tweet-1651493149800529926-a8f393630f2d60b'\n",
      "Skipping unrecognised entry ID: 'promoted-tweet-1648895801702375424-a8f158a90d5f53b'\n",
      "query:  31%|███▏      | 21/67 [01:38<03:30,  4.57s/it]"
     ]
    },
    {
     "name": "stdout",
     "output_type": "stream",
     "text": [
      "update -> date : 7 ,\n",
      " limit : 100\n",
      "start #ノエラート...\n"
     ]
    },
    {
     "name": "stderr",
     "output_type": "stream",
     "text": [
      "Skipping unrecognised entry ID: 'promoted-tweet-1653610333909467136-a8f61edee51c0d7'\n",
      "Skipping unrecognised entry ID: 'promoted-tweet-1648895801702375424-a8f2b73b3b73724'\n",
      "Skipping unrecognised entry ID: 'promoted-tweet-1652689265409552384-a8f098c5e8a109f'\n",
      "Skipping unrecognised entry ID: 'promoted-tweet-1652878006711615489-a8f580e3e31bfe9'\n",
      "Skipping unrecognised entry ID: 'promoted-tweet-1655830163819728906-a8f58e1b635b80b'\n",
      "Skipping unrecognised entry ID: 'promoted-tweet-1647797591290302465-a8f9f86a7337b7f'\n",
      "Skipping unrecognised entry ID: 'promoted-tweet-1651493149800529926-a8fd91e6ed1c4f1'\n",
      "Skipping unrecognised entry ID: 'promoted-tweet-1607488378693378049-a8f4871563c69c7'\n",
      "Skipping unrecognised entry ID: 'promoted-tweet-1652878006711615489-a8fbc5d87a6a59c'\n",
      "Skipping unrecognised entry ID: 'promoted-tweet-1648895801702375424-a8f9002dbecce32'\n",
      "Skipping unrecognised entry ID: 'promoted-tweet-1652878006711615489-a8fcb13e3a2f425'\n",
      "Skipping unrecognised entry ID: 'promoted-tweet-1651057006726266880-a8fe7d6084bcbeb'\n",
      "Skipping unrecognised entry ID: 'promoted-tweet-1651493149800529926-a8ff252dab48836'\n",
      "Skipping unrecognised entry ID: 'promoted-tweet-1656690632356950016-a8f34762147827f'\n",
      "Skipping unrecognised entry ID: 'promoted-tweet-1656509439225249793-a8ffcf711079ebb'\n",
      "Skipping unrecognised entry ID: 'promoted-tweet-1653610333909467136-a8fb3720398f612'\n",
      "Skipping unrecognised entry ID: 'promoted-tweet-1655830163819728906-a8f5890f3477d4b'\n",
      "Skipping unrecognised entry ID: 'promoted-tweet-1651493210911576064-a8f95394ed52ed4'\n",
      "Skipping unrecognised entry ID: 'promoted-tweet-1653610333909467136-a8fc0304ac9a422'\n",
      "Skipping unrecognised entry ID: 'promoted-tweet-1651493149800529926-a8fd3fa8f011213'\n",
      "Skipping unrecognised entry ID: 'promoted-tweet-1655830163819728906-a8ff165921397e8'\n",
      "query:  33%|███▎      | 22/67 [01:44<03:43,  4.96s/it]"
     ]
    },
    {
     "name": "stdout",
     "output_type": "stream",
     "text": [
      "Tweet count : 100update -> date : 7 ,\n",
      " limit : 100\n",
      "start #マリンのお宝...\n"
     ]
    },
    {
     "name": "stderr",
     "output_type": "stream",
     "text": [
      "Skipping unrecognised entry ID: 'promoted-tweet-1653610333909467136-a8f909d2e749901'\n",
      "Skipping unrecognised entry ID: 'promoted-tweet-1651493149800529926-a8f017a3ae96203'\n",
      "Skipping unrecognised entry ID: 'promoted-tweet-1607488378693378049-a8f67e8e0e1dc9a'\n",
      "Skipping unrecognised entry ID: 'promoted-tweet-1651493210911576064-a8fd0a9914d7045'\n",
      "Skipping unrecognised entry ID: 'promoted-tweet-1655830163819728906-a8f7bb8d786fde2'\n",
      "Skipping unrecognised entry ID: 'promoted-tweet-1655882805010739205-a8f34b405bd213d'\n",
      "Skipping unrecognised entry ID: 'promoted-tweet-1650530036707913729-a8f66cdf0a879fd'\n",
      "Skipping unrecognised entry ID: 'promoted-tweet-1654398661185638402-a8f12e396edd90d'\n",
      "Skipping unrecognised entry ID: 'promoted-tweet-1651493210911576064-a8f82a0af3408d9'\n",
      "Skipping unrecognised entry ID: 'promoted-tweet-1652878006711615489-a8f813c41e96a24'\n",
      "Skipping unrecognised entry ID: 'promoted-tweet-1656533194328641536-a8ff9eaf06a57c5'\n",
      "Skipping unrecognised entry ID: 'promoted-tweet-1651493210911576064-a8f0121448bf2ce'\n",
      "Skipping unrecognised entry ID: 'promoted-tweet-1651493149800529926-a8f89783fd87280'\n",
      "Skipping unrecognised entry ID: 'promoted-tweet-1656826528066420739-a8ff985e5603c91'\n",
      "Skipping unrecognised entry ID: 'promoted-tweet-1656533194328641536-a8fb664342c9225'\n",
      "Skipping unrecognised entry ID: 'promoted-tweet-1653610333909467136-a8fc93ee7246de3'\n",
      "Skipping unrecognised entry ID: 'promoted-tweet-1651493149800529926-a8ffeea211ebb87'\n",
      "Skipping unrecognised entry ID: 'promoted-tweet-1648886682702483457-a8f1e3390af89f8'\n",
      "Skipping unrecognised entry ID: 'promoted-tweet-1607488378693378049-a8fe66f46b468ea'\n",
      "Skipping unrecognised entry ID: 'promoted-tweet-1654398661185638402-a8fa6133cff7992'\n",
      "Skipping unrecognised entry ID: 'promoted-tweet-1655830163819728906-a8fc29f37eaa3a5'\n",
      "Skipping unrecognised entry ID: 'promoted-tweet-1653610333909467136-a8fde97e57de234'\n",
      "Skipping unrecognised entry ID: 'promoted-tweet-1650530036707913729-a8f73c65f6533b3'\n",
      "query:  34%|███▍      | 23/67 [01:49<03:49,  5.22s/it]"
     ]
    },
    {
     "name": "stdout",
     "output_type": "stream",
     "text": [
      "Tweet count : 100update -> date : 7 ,\n",
      " limit : 100\n",
      "start #かなたーと...\n"
     ]
    },
    {
     "name": "stderr",
     "output_type": "stream",
     "text": [
      "Skipping unrecognised entry ID: 'promoted-tweet-1651057006671699973-a8fa2223df6098f'\n",
      "Skipping unrecognised entry ID: 'promoted-tweet-1651493149800529926-a8fa7b4532b6dc5'\n",
      "Skipping unrecognised entry ID: 'promoted-tweet-1648886682702483457-a8f90d957a1200b'\n",
      "Skipping unrecognised entry ID: 'promoted-tweet-1651493149800529926-a8fb16a4802eb9b'\n",
      "Skipping unrecognised entry ID: 'promoted-tweet-1648895801702375424-a8f6e398a465ae1'\n",
      "Skipping unrecognised entry ID: 'promoted-tweet-1655882808017973248-a8fc1f9a33b2809'\n",
      "Skipping unrecognised entry ID: 'promoted-tweet-1652878006711615489-a8f3a1fddd1e9db'\n",
      "Skipping unrecognised entry ID: 'promoted-tweet-1648895801702375424-a8fff330444add3'\n",
      "Skipping unrecognised entry ID: 'promoted-tweet-1651493210911576064-a8f23c40deaf085'\n",
      "Skipping unrecognised entry ID: 'promoted-tweet-1607488378693378049-a8fbedc40e18728'\n",
      "Skipping unrecognised entry ID: 'promoted-tweet-1652878006711615489-a8f94ac392ec640'\n",
      "Skipping unrecognised entry ID: 'promoted-tweet-1650530036707913729-a8f836f07ce80cb'\n",
      "Skipping unrecognised entry ID: 'promoted-tweet-1651493149800529926-a8f4beb4dacafcf'\n",
      "Skipping unrecognised entry ID: 'promoted-tweet-1648895801702375424-a8ff1942bdff38a'\n",
      "Skipping unrecognised entry ID: 'promoted-tweet-1648657441133830144-a8f9f544535aeb0'\n",
      "Skipping unrecognised entry ID: 'promoted-tweet-1651493149800529926-a8fbe2678bb0db1'\n",
      "Skipping unrecognised entry ID: 'promoted-tweet-1607488378693378049-a8f260f0b67fc7e'\n",
      "Skipping unrecognised entry ID: 'promoted-tweet-1650530036707913729-a8f148fd36cddc6'\n",
      "Skipping unrecognised entry ID: 'promoted-tweet-1653610333909467136-a8f6c5ebcabc139'\n",
      "Skipping unrecognised entry ID: 'promoted-tweet-1649246578014662659-a8fefa5e241e96f'\n",
      "Skipping unrecognised entry ID: 'promoted-tweet-1649442880312819712-a8f00743f7feb87'\n",
      "query:  36%|███▌      | 24/67 [01:54<03:42,  5.18s/it]"
     ]
    },
    {
     "name": "stdout",
     "output_type": "stream",
     "text": [
      "Tweet count : 100update -> date : 7 ,\n",
      " limit : 100\n",
      "start #つのまきあーと...\n"
     ]
    },
    {
     "name": "stderr",
     "output_type": "stream",
     "text": [
      "Skipping unrecognised entry ID: 'promoted-tweet-1607488378693378049-a8fc1b685092fc9'\n",
      "Skipping unrecognised entry ID: 'promoted-tweet-1648895801702375424-a8ff0c2295578f4'\n",
      "Skipping unrecognised entry ID: 'promoted-tweet-1656509439225249793-a8fe71af3412830'\n",
      "Skipping unrecognised entry ID: 'promoted-tweet-1653610333909467136-a8f7bfb23d132f0'\n",
      "Skipping unrecognised entry ID: 'promoted-tweet-1656529566859665408-a8f111d1c8df779'\n",
      "Skipping unrecognised entry ID: 'promoted-tweet-1651493210911576064-a8ff59be1d13c19'\n",
      "Skipping unrecognised entry ID: 'promoted-tweet-1607488378693378049-a8f918bcaac6ee6'\n",
      "Skipping unrecognised entry ID: 'promoted-tweet-1656509438575149056-a8f7067c4569f25'\n",
      "Skipping unrecognised entry ID: 'promoted-tweet-1650530036707913729-a8f8d8c5e97ab82'\n",
      "Skipping unrecognised entry ID: 'promoted-tweet-1653610333909467136-a8fcc7515d14892'\n",
      "Skipping unrecognised entry ID: 'promoted-tweet-1607488378693378049-a8fec65992ae4af'\n",
      "Skipping unrecognised entry ID: 'promoted-tweet-1655830163819728906-a8f6e142e0745c8'\n",
      "Skipping unrecognised entry ID: 'promoted-tweet-1607488378693378049-a8fad777366250a'\n",
      "Skipping unrecognised entry ID: 'promoted-tweet-1650530036707913729-a8f801defa1147d'\n",
      "Skipping unrecognised entry ID: 'promoted-tweet-1652341978749710338-a8f85bf0f796e29'\n",
      "Skipping unrecognised entry ID: 'promoted-tweet-1651493149800529926-a8f957fc3c4f0f2'\n",
      "Skipping unrecognised entry ID: 'promoted-tweet-1607488378693378049-a8f29335dcf5958'\n",
      "Skipping unrecognised entry ID: 'promoted-tweet-1648895801702375424-a8f3ffbc84081eb'\n",
      "Skipping unrecognised entry ID: 'promoted-tweet-1651493149800529926-a8fc69e5e0fedd6'\n",
      "Skipping unrecognised entry ID: 'promoted-tweet-1607488378693378049-a8fd705d1e327d3'\n",
      "query:  37%|███▋      | 25/67 [02:00<03:37,  5.18s/it]"
     ]
    },
    {
     "name": "stdout",
     "output_type": "stream",
     "text": [
      "Tweet count : 100update -> date : 7 ,\n",
      " limit : 100\n",
      "start #TOWART...\n"
     ]
    },
    {
     "name": "stderr",
     "output_type": "stream",
     "text": [
      "Skipping unrecognised entry ID: 'promoted-tweet-1648895801702375424-a8ffdf8190ddecb'\n",
      "Skipping unrecognised entry ID: 'promoted-tweet-1656947329826709504-a8f788d4331fecf'\n",
      "Skipping unrecognised entry ID: 'promoted-tweet-1654528689475043330-a8fcab9e130e6b3'\n",
      "Skipping unrecognised entry ID: 'promoted-tweet-1607488378693378049-a8f47276b69a2c1'\n",
      "Skipping unrecognised entry ID: 'promoted-tweet-1652878006711615489-a8f21ffeb343285'\n",
      "Skipping unrecognised entry ID: 'promoted-tweet-1656690632356950016-a8f3020563db373'\n",
      "Skipping unrecognised entry ID: 'promoted-tweet-1651493149800529926-a8f6628b705d7d2'\n",
      "Skipping unrecognised entry ID: 'promoted-tweet-1652878006711615489-a8f3cc48b08cd49'\n",
      "Skipping unrecognised entry ID: 'promoted-tweet-1649442882666008582-a8f5935bb3f1dc5'\n",
      "Skipping unrecognised entry ID: 'promoted-tweet-1651493149800529926-a8f165c39ebf026'\n",
      "Skipping unrecognised entry ID: 'promoted-tweet-1607488378693378049-a8f839d05611a85'\n",
      "Skipping unrecognised entry ID: 'promoted-tweet-1654398661185638402-a8fe3f584eed1f3'\n",
      "Skipping unrecognised entry ID: 'promoted-tweet-1607488378693378049-a8ff752c3c319cc'\n",
      "Skipping unrecognised entry ID: 'promoted-tweet-1651493149800529926-a8f44edc51e9526'\n",
      "Skipping unrecognised entry ID: 'promoted-tweet-1650530036707913729-a8f72ca8b078342'\n",
      "Skipping unrecognised entry ID: 'promoted-tweet-1653610333909467136-a8f9a189582fa32'\n",
      "Skipping unrecognised entry ID: 'promoted-tweet-1607488378693378049-a8fd1da4d665473'\n",
      "Skipping unrecognised entry ID: 'promoted-tweet-1651493149800529926-a8f421cd0ef5a9d'\n",
      "Skipping unrecognised entry ID: 'promoted-tweet-1650530036707913729-a8faf140cef1e4a'\n",
      "Skipping unrecognised entry ID: 'promoted-tweet-1652878006711615489-a8f6200238ab8ae'\n",
      "Skipping unrecognised entry ID: 'promoted-tweet-1654528689881874432-a8f113f65c93eac'\n",
      "query:  39%|███▉      | 26/67 [02:05<03:31,  5.16s/it]"
     ]
    },
    {
     "name": "stdout",
     "output_type": "stream",
     "text": [
      "Tweet count : 100update -> date : 7 ,\n",
      " limit : 100\n",
      "start #ルーナート...\n"
     ]
    },
    {
     "name": "stderr",
     "output_type": "stream",
     "text": [
      "Skipping unrecognised entry ID: 'promoted-tweet-1607488378693378049-a8ff549a42016a7'\n",
      "Skipping unrecognised entry ID: 'promoted-tweet-1648895801702375424-a8f1bb7bf7edeca'\n",
      "Skipping unrecognised entry ID: 'promoted-tweet-1652878006711615489-a8fb2033e77f2ad'\n",
      "Skipping unrecognised entry ID: 'promoted-tweet-1648895801702375424-a8f2c092ac3d8f0'\n",
      "Skipping unrecognised entry ID: 'promoted-tweet-1654398661185638402-a8f3f1085ed9d07'\n",
      "Skipping unrecognised entry ID: 'promoted-tweet-1651493210911576064-a8fc0c8ad6d7324'\n",
      "Skipping unrecognised entry ID: 'promoted-tweet-1653610333909467136-a8f5dca6e5ad533'\n",
      "Skipping unrecognised entry ID: 'promoted-tweet-1648886682702483457-a8fbdbfd31d44c4'\n",
      "Skipping unrecognised entry ID: 'promoted-tweet-1652689277023838208-a8f86137648fdc8'\n",
      "Skipping unrecognised entry ID: 'promoted-tweet-1653610333909467136-a8fb2a7da0ba73d'\n",
      "Skipping unrecognised entry ID: 'promoted-tweet-1656529566859665408-a8faf503c290d94'\n",
      "Skipping unrecognised entry ID: 'promoted-tweet-1655830163819728906-a8f3cff6c07e046'\n",
      "Skipping unrecognised entry ID: 'promoted-tweet-1653610333909467136-a8faebb4ba4f4f0'\n",
      "Skipping unrecognised entry ID: 'promoted-tweet-1648895801702375424-a8f87c5faa4ce68'\n",
      "Skipping unrecognised entry ID: 'promoted-tweet-1649246578014662659-a8f891437a7aae0'\n",
      "Skipping unrecognised entry ID: 'promoted-tweet-1653610333909467136-a8f01674658aeb1'\n",
      "Skipping unrecognised entry ID: 'promoted-tweet-1651493149800529926-a8fbb58b18b5040'\n",
      "query:  40%|████      | 27/67 [02:09<03:15,  4.88s/it]"
     ]
    },
    {
     "name": "stdout",
     "output_type": "stream",
     "text": [
      "update -> date : 7 ,\n",
      " limit : 100\n",
      "start #みかじ絵...\n"
     ]
    },
    {
     "name": "stderr",
     "output_type": "stream",
     "text": [
      "Skipping unrecognised entry ID: 'promoted-tweet-1651493149800529926-a8f30544439fc4c'\n",
      "Skipping unrecognised entry ID: 'promoted-tweet-1648895801702375424-a8fd3788e537961'\n",
      "Skipping unrecognised entry ID: 'promoted-tweet-1654398661185638402-a8f3604ea9b1d8e'\n",
      "Skipping unrecognised entry ID: 'promoted-tweet-1653610333909467136-a8f515d7f7fa872'\n",
      "Skipping unrecognised entry ID: 'promoted-tweet-1648895801702375424-a8fbea15adb7474'\n",
      "Skipping unrecognised entry ID: 'promoted-tweet-1607488378693378049-a8f7a411243ab7b'\n",
      "query:  42%|████▏     | 28/67 [02:11<02:32,  3.91s/it]"
     ]
    },
    {
     "name": "stdout",
     "output_type": "stream",
     "text": [
      "update -> date : 7 ,\n",
      " limit : 100\n",
      "start #LamyArt...\n"
     ]
    },
    {
     "name": "stderr",
     "output_type": "stream",
     "text": [
      "Skipping unrecognised entry ID: 'promoted-tweet-1650530036707913729-a8f19c58d42b261'\n",
      "Skipping unrecognised entry ID: 'promoted-tweet-1652878005738299394-a8f3b6fde71c340'\n",
      "Skipping unrecognised entry ID: 'promoted-tweet-1651493210911576064-a8f58aa3b8fd471'\n",
      "Skipping unrecognised entry ID: 'promoted-tweet-1653610333909467136-a8f5ca5f8ac2de9'\n",
      "Skipping unrecognised entry ID: 'promoted-tweet-1651493149800529926-a8f2283a413bd31'\n",
      "Skipping unrecognised entry ID: 'promoted-tweet-1648886682702483457-a8ffa02b6fec2f1'\n",
      "Skipping unrecognised entry ID: 'promoted-tweet-1651493149800529926-a8f97d502e24895'\n",
      "Skipping unrecognised entry ID: 'promoted-tweet-1651057006726266880-a8f308eddeadd6c'\n",
      "Skipping unrecognised entry ID: 'promoted-tweet-1648895801702375424-a8ffad97acf0330'\n",
      "Skipping unrecognised entry ID: 'promoted-tweet-1652878006711615489-a8f3ebe8912ad83'\n",
      "Skipping unrecognised entry ID: 'promoted-tweet-1651493210911576064-a8f4da69ad05bed'\n",
      "Skipping unrecognised entry ID: 'promoted-tweet-1656178972844244993-a8f2dcec251d3de'\n",
      "Skipping unrecognised entry ID: 'promoted-tweet-1651493149800529926-a90da4bf962607a'\n",
      "Skipping unrecognised entry ID: 'promoted-tweet-1648895801702375424-a90fd1865c340ec'\n",
      "Skipping unrecognised entry ID: 'promoted-tweet-1654750469019844609-a90d8f9b1b22333'\n",
      "Skipping unrecognised entry ID: 'promoted-tweet-1607488378693378049-a90a56235dbd18c'\n",
      "Skipping unrecognised entry ID: 'promoted-tweet-1656509438575149056-a90ff32ff5be753'\n",
      "Skipping unrecognised entry ID: 'promoted-tweet-1655830163819728906-a905bf6bc02d97b'\n",
      "Skipping unrecognised entry ID: 'promoted-tweet-1655882808017973248-a905df9254e0340'\n",
      "Skipping unrecognised entry ID: 'promoted-tweet-1650530036707913729-a907974c99c847f'\n",
      "Skipping unrecognised entry ID: 'promoted-tweet-1654528689881874432-a90c6320468c7f9'\n",
      "query:  43%|████▎     | 29/67 [02:16<02:42,  4.29s/it]"
     ]
    },
    {
     "name": "stdout",
     "output_type": "stream",
     "text": [
      "Tweet count : 100update -> date : 7 ,\n",
      " limit : 100\n",
      "start #ねねアルバム...\n"
     ]
    },
    {
     "name": "stderr",
     "output_type": "stream",
     "text": [
      "Skipping unrecognised entry ID: 'promoted-tweet-1653610333909467136-a908e01b5f343c5'\n",
      "Skipping unrecognised entry ID: 'promoted-tweet-1651493149800529926-a909ac7a7404313'\n",
      "Skipping unrecognised entry ID: 'promoted-tweet-1648895801702375424-a90e7a18136b695'\n",
      "Skipping unrecognised entry ID: 'promoted-tweet-1607488378693378049-a90d21f6d3fcbf1'\n",
      "Skipping unrecognised entry ID: 'promoted-tweet-1655830163819728906-a900cc6ebaf8667'\n",
      "Skipping unrecognised entry ID: 'promoted-tweet-1654750469019844609-a90e90c68a2bdf8'\n",
      "Skipping unrecognised entry ID: 'promoted-tweet-1652878006711615489-a90c43c0eca8f45'\n",
      "Skipping unrecognised entry ID: 'promoted-tweet-1648895801702375424-a90c8420c20306c'\n",
      "Skipping unrecognised entry ID: 'promoted-tweet-1651493210911576064-a90b94e5f2a671b'\n",
      "Skipping unrecognised entry ID: 'promoted-tweet-1651493149800529926-a90275490771682'\n",
      "Skipping unrecognised entry ID: 'promoted-tweet-1648895801702375424-a90ca9d5d133053'\n",
      "Skipping unrecognised entry ID: 'promoted-tweet-1607488378693378049-a909bb997e26096'\n",
      "Skipping unrecognised entry ID: 'promoted-tweet-1653610333909467136-a9007e7d04fd0ac'\n",
      "Skipping unrecognised entry ID: 'promoted-tweet-1648895801702375424-a90c3e202fdac6b'\n",
      "Skipping unrecognised entry ID: 'promoted-tweet-1651370348804440065-a9033879ee7652d'\n",
      "Skipping unrecognised entry ID: 'promoted-tweet-1654398661185638402-a9071c584739463'\n",
      "Skipping unrecognised entry ID: 'promoted-tweet-1651493210911576064-a90f9b7ba81e9a1'\n",
      "Skipping unrecognised entry ID: 'promoted-tweet-1579467865916604417-a902cf4e0260053'\n",
      "Skipping unrecognised entry ID: 'promoted-tweet-1651493149800529926-a90720771f7086e'\n",
      "Skipping unrecognised entry ID: 'promoted-tweet-1607488378693378049-a90259d2d0666ad'\n",
      "Skipping unrecognised entry ID: 'promoted-tweet-1650530036707913729-a90f279ceba7b90'\n"
     ]
    },
    {
     "name": "stdout",
     "output_type": "stream",
     "text": [
      "Tweet count : 100"
     ]
    },
    {
     "name": "stderr",
     "output_type": "stream",
     "text": [
      "query:  45%|████▍     | 30/67 [02:22<02:56,  4.77s/it]"
     ]
    },
    {
     "name": "stdout",
     "output_type": "stream",
     "text": [
      "update -> date : 7 ,\n",
      " limit : 100\n",
      "start #ししらーと...\n"
     ]
    },
    {
     "name": "stderr",
     "output_type": "stream",
     "text": [
      "Skipping unrecognised entry ID: 'promoted-tweet-1651493149800529926-a90e0659760fad8'\n",
      "Skipping unrecognised entry ID: 'promoted-tweet-1652878006711615489-a90ca65e731f91f'\n",
      "Skipping unrecognised entry ID: 'promoted-tweet-1651370348582166528-a903a8bf25da252'\n",
      "Skipping unrecognised entry ID: 'promoted-tweet-1653610333909467136-a9041880ac33220'\n",
      "Skipping unrecognised entry ID: 'promoted-tweet-1655830163819728906-a90a284faf73e78'\n",
      "Skipping unrecognised entry ID: 'promoted-tweet-1652689265409552384-a906aef1096dddc'\n",
      "Skipping unrecognised entry ID: 'promoted-tweet-1648895801702375424-a90a32e9c68cf30'\n",
      "Skipping unrecognised entry ID: 'promoted-tweet-1614804762003652614-a903daad8e8e64a'\n",
      "Skipping unrecognised entry ID: 'promoted-tweet-1652145684014043136-a9060ed0afaaf6d'\n",
      "Skipping unrecognised entry ID: 'promoted-tweet-1607488378693378049-a90a76e431f7162'\n",
      "Skipping unrecognised entry ID: 'promoted-tweet-1655882808017973248-a907eec9fe5184f'\n",
      "Skipping unrecognised entry ID: 'promoted-tweet-1656690632356950016-a90e6d5197d27a1'\n",
      "Skipping unrecognised entry ID: 'promoted-tweet-1651493149800529926-a908c764936c2ff'\n",
      "Skipping unrecognised entry ID: 'promoted-tweet-1607488378693378049-a90b830117df699'\n",
      "Skipping unrecognised entry ID: 'promoted-tweet-1648895801702375424-a90cd0d6ea72527'\n",
      "Skipping unrecognised entry ID: 'promoted-tweet-1653610333909467136-a90ae1907fb6eef'\n",
      "Skipping unrecognised entry ID: 'promoted-tweet-1651493149800529926-a9089a0539c6726'\n",
      "Skipping unrecognised entry ID: 'promoted-tweet-1648895801702375424-a90e0a8eb96b38f'\n",
      "Skipping unrecognised entry ID: 'promoted-tweet-1651493149800529926-a906c4d2f750900'\n",
      "Skipping unrecognised entry ID: 'promoted-tweet-1607488378693378049-a90362d1c7760e0'\n",
      "Skipping unrecognised entry ID: 'promoted-tweet-1655882808017973248-a905b827f404a80'\n",
      "Skipping unrecognised entry ID: 'promoted-tweet-1653610333909467136-a90823f5b6081e6'\n",
      "Skipping unrecognised entry ID: 'promoted-tweet-1651493149800529926-a90aafb17274d18'\n",
      "Skipping unrecognised entry ID: 'promoted-tweet-1649442880312819712-a90256365c71cb5'\n",
      "query:  46%|████▋     | 31/67 [02:27<03:01,  5.03s/it]"
     ]
    },
    {
     "name": "stdout",
     "output_type": "stream",
     "text": [
      "Tweet count : 100update -> date : 7 ,\n",
      " limit : 100\n",
      "start #絵まる...\n"
     ]
    },
    {
     "name": "stderr",
     "output_type": "stream",
     "text": [
      "Skipping unrecognised entry ID: 'promoted-tweet-1651493149800529926-a9078ab261e1cee'\n",
      "Skipping unrecognised entry ID: 'promoted-tweet-1649246579260555265-a901808a09845f5'\n",
      "Skipping unrecognised entry ID: 'promoted-tweet-1648895801702375424-a9021b73ad42260'\n",
      "Skipping unrecognised entry ID: 'promoted-tweet-1651493149800529926-a90f11abeaf37a5'\n",
      "Skipping unrecognised entry ID: 'promoted-tweet-1648895801702375424-a902fc720c3e3d9'\n",
      "Skipping unrecognised entry ID: 'promoted-tweet-1654398661185638402-a908798be8eae0b'\n",
      "Skipping unrecognised entry ID: 'promoted-tweet-1653610333909467136-a9080023dbcec4b'\n",
      "Skipping unrecognised entry ID: 'promoted-tweet-1607488378693378049-a90a13eb92974c8'\n",
      "Skipping unrecognised entry ID: 'promoted-tweet-1648886682702483457-a902a0b6c2efd75'\n",
      "Skipping unrecognised entry ID: 'promoted-tweet-1607488378693378049-a905a44466abc16'\n",
      "Skipping unrecognised entry ID: 'promoted-tweet-1655882808017973248-a90cd350122692f'\n",
      "Skipping unrecognised entry ID: 'promoted-tweet-1651493210911576064-a901040a21556ee'\n",
      "Skipping unrecognised entry ID: 'promoted-tweet-1655882808017973248-a909cb65322a4a7'\n",
      "Skipping unrecognised entry ID: 'promoted-tweet-1651493210911576064-a90595aaaf6849d'\n",
      "Skipping unrecognised entry ID: 'promoted-tweet-1648886682702483457-a905567ce2f1392'\n",
      "Skipping unrecognised entry ID: 'promoted-tweet-1651493149800529926-a90836cb08c733c'\n",
      "Skipping unrecognised entry ID: 'promoted-tweet-1655830163819728906-a9048c589bbbdae'\n",
      "Skipping unrecognised entry ID: 'promoted-tweet-1654750469019844609-a907df52e10690d'\n",
      "query:  48%|████▊     | 32/67 [02:32<02:51,  4.89s/it]"
     ]
    },
    {
     "name": "stdout",
     "output_type": "stream",
     "text": [
      "Tweet count : 100update -> date : 7 ,\n",
      " limit : 100\n",
      "start #まのあろ絵...\n"
     ]
    },
    {
     "name": "stderr",
     "output_type": "stream",
     "text": [
      "Skipping unrecognised entry ID: 'promoted-tweet-1656529566859665408-a90c4b8159008a4'\n",
      "Skipping unrecognised entry ID: 'promoted-tweet-1653610333909467136-a90526a59786abe'\n",
      "Skipping unrecognised entry ID: 'promoted-tweet-1607488378693378049-a90502ac28cc4a2'\n",
      "query:  49%|████▉     | 33/67 [02:33<02:03,  3.65s/it]"
     ]
    },
    {
     "name": "stdout",
     "output_type": "stream",
     "text": [
      "update -> date : 7 ,\n",
      " limit : 100\n",
      "start #Laplus_Artdesu...\n"
     ]
    },
    {
     "name": "stderr",
     "output_type": "stream",
     "text": [
      "Skipping unrecognised entry ID: 'promoted-tweet-1648895801702375424-a9082b188d8cbb2'\n",
      "Skipping unrecognised entry ID: 'promoted-tweet-1652878005738299394-a90b0e17a6b68da'\n",
      "Skipping unrecognised entry ID: 'promoted-tweet-1649246578014662659-a907045f60482de'\n",
      "Skipping unrecognised entry ID: 'promoted-tweet-1607488378693378049-a9052946e8ed7b9'\n",
      "Skipping unrecognised entry ID: 'promoted-tweet-1652878006711615489-a90e191a2289008'\n",
      "Skipping unrecognised entry ID: 'promoted-tweet-1655830163819728906-a9093100319ca47'\n",
      "Skipping unrecognised entry ID: 'promoted-tweet-1653610333909467136-a908fc7421e004c'\n",
      "Skipping unrecognised entry ID: 'promoted-tweet-1650530036707913729-a9048aa9af86e20'\n",
      "Skipping unrecognised entry ID: 'promoted-tweet-1654528689881874432-a9092b76f357042'\n",
      "Skipping unrecognised entry ID: 'promoted-tweet-1651493149800529926-a90a10910d24756'\n",
      "Skipping unrecognised entry ID: 'promoted-tweet-1655830163819728906-a90acea0931fc95'\n",
      "Skipping unrecognised entry ID: 'promoted-tweet-1654398661185638402-a903eeaf17e9f77'\n",
      "Skipping unrecognised entry ID: 'promoted-tweet-1653610333909467136-a9051226b8ececd'\n",
      "Skipping unrecognised entry ID: 'promoted-tweet-1651493149800529926-a900aa0c4eeef79'\n",
      "Skipping unrecognised entry ID: 'promoted-tweet-1607488378693378049-a90798819104d56'\n",
      "Skipping unrecognised entry ID: 'promoted-tweet-1651493149800529926-a9002e3404ba211'\n",
      "Skipping unrecognised entry ID: 'promoted-tweet-1607488378693378049-a90696bca99d8e9'\n",
      "Skipping unrecognised entry ID: 'promoted-tweet-1648895801702375424-a90d5943aa5b61e'\n",
      "Skipping unrecognised entry ID: 'promoted-tweet-1656529566859665408-a90e86bb1864979'\n",
      "Skipping unrecognised entry ID: 'promoted-tweet-1607488378693378049-a90d21309666c01'\n",
      "Skipping unrecognised entry ID: 'promoted-tweet-1648895801702375424-a906d8e47d0d3ab'\n",
      "Skipping unrecognised entry ID: 'promoted-tweet-1651493149800529926-a90db5e71679a72'\n",
      "query:  51%|█████     | 34/67 [02:38<02:21,  4.29s/it]"
     ]
    },
    {
     "name": "stdout",
     "output_type": "stream",
     "text": [
      "Tweet count : 100update -> date : 7 ,\n",
      " limit : 100\n",
      "start #Luillust...\n"
     ]
    },
    {
     "name": "stderr",
     "output_type": "stream",
     "text": [
      "Skipping unrecognised entry ID: 'promoted-tweet-1653610333909467136-a90076b9eaa6e15'\n",
      "Skipping unrecognised entry ID: 'promoted-tweet-1651493149800529926-a901aa96190c626'\n",
      "Skipping unrecognised entry ID: 'promoted-tweet-1648895801702375424-a907140262c6e8c'\n",
      "Skipping unrecognised entry ID: 'promoted-tweet-1649442882666008582-a9004c2ff5e2b74'\n",
      "Skipping unrecognised entry ID: 'promoted-tweet-1638201300843151360-a90611d33c23a44'\n",
      "Skipping unrecognised entry ID: 'promoted-tweet-1614804762003652614-a905cb91fa4d033'\n",
      "Skipping unrecognised entry ID: 'promoted-tweet-1653610333909467136-a905542f593631e'\n",
      "Skipping unrecognised entry ID: 'promoted-tweet-1651493149800529926-a90a5cd6bfa04fd'\n",
      "Skipping unrecognised entry ID: 'promoted-tweet-1648886682702483457-a90353cae83dc2f'\n",
      "Skipping unrecognised entry ID: 'promoted-tweet-1651493149800529926-a90aabdeb1bdd28'\n",
      "Skipping unrecognised entry ID: 'promoted-tweet-1650530036707913729-a90486896b9aae8'\n",
      "Skipping unrecognised entry ID: 'promoted-tweet-1654398661185638402-a905a4b87943efd'\n",
      "Skipping unrecognised entry ID: 'promoted-tweet-1651493149800529926-a907c283da76499'\n",
      "Skipping unrecognised entry ID: 'promoted-tweet-1648895801702375424-a90fecc72690e63'\n",
      "Skipping unrecognised entry ID: 'promoted-tweet-1656509438575149056-a9011f10eead9c0'\n",
      "Skipping unrecognised entry ID: 'promoted-tweet-1653610333909467136-a90c6af668ddc8b'\n",
      "Skipping unrecognised entry ID: 'promoted-tweet-1651493149800529926-a906c275b0cd719'\n",
      "Skipping unrecognised entry ID: 'promoted-tweet-1607488378693378049-a90b6c424554f29'\n",
      "Skipping unrecognised entry ID: 'promoted-tweet-1607488378693378049-a9062e6d28c2049'\n",
      "query:  52%|█████▏    | 35/67 [02:44<02:28,  4.63s/it]"
     ]
    },
    {
     "name": "stdout",
     "output_type": "stream",
     "text": [
      "update -> date : 7 ,\n",
      " limit : 100\n",
      "start #こよりすけっち...\n"
     ]
    },
    {
     "name": "stderr",
     "output_type": "stream",
     "text": [
      "Skipping unrecognised entry ID: 'promoted-tweet-1656529566859665408-a900abe536036bf'\n",
      "Skipping unrecognised entry ID: 'promoted-tweet-1651493149800529926-a90402c392195dc'\n",
      "Skipping unrecognised entry ID: 'promoted-tweet-1607488378693378049-a90e0f4df8f4744'\n",
      "Skipping unrecognised entry ID: 'promoted-tweet-1607488378693378049-a90f2e178821990'\n",
      "Skipping unrecognised entry ID: 'promoted-tweet-1651493210911576064-a9010e0e69a87d5'\n",
      "Skipping unrecognised entry ID: 'promoted-tweet-1656178972844244993-a90294074a323a6'\n",
      "Skipping unrecognised entry ID: 'promoted-tweet-1607488378693378049-a903ba4cfefa77f'\n",
      "Skipping unrecognised entry ID: 'promoted-tweet-1648895801702375424-a907f7e2108ff74'\n",
      "Skipping unrecognised entry ID: 'promoted-tweet-1651493210911576064-a90533f1592717a'\n",
      "Skipping unrecognised entry ID: 'promoted-tweet-1648895801702375424-a90e510853a1445'\n",
      "Skipping unrecognised entry ID: 'promoted-tweet-1654398661185638402-a9039e9fe256a32'\n",
      "Skipping unrecognised entry ID: 'promoted-tweet-1651493210911576064-a908a18df19cc42'\n",
      "Skipping unrecognised entry ID: 'promoted-tweet-1651493149800529926-a9008ad6a83a193'\n",
      "Skipping unrecognised entry ID: 'promoted-tweet-1607488378693378049-a903eed7ea60fe0'\n",
      "Skipping unrecognised entry ID: 'promoted-tweet-1648895801702375424-a9022727fc245c4'\n",
      "Skipping unrecognised entry ID: 'promoted-tweet-1607488378693378049-a90431ce50cd45b'\n",
      "Skipping unrecognised entry ID: 'promoted-tweet-1650530036707913729-a90da8e20603e76'\n",
      "Skipping unrecognised entry ID: 'promoted-tweet-1654750469019844609-a908333516e901d'\n",
      "Skipping unrecognised entry ID: 'promoted-tweet-1651493149800529926-a905291131a7ab1'\n",
      "Skipping unrecognised entry ID: 'promoted-tweet-1656947319387099138-a909dd2bd06a418'\n",
      "query:  54%|█████▎    | 36/67 [02:49<02:27,  4.76s/it]"
     ]
    },
    {
     "name": "stdout",
     "output_type": "stream",
     "text": [
      "Tweet count : 100update -> date : 7 ,\n",
      " limit : 100\n",
      "start #さかまた飼育日記...\n"
     ]
    },
    {
     "name": "stderr",
     "output_type": "stream",
     "text": [
      "Skipping unrecognised entry ID: 'promoted-tweet-1653610333909467136-a90c2983dc1e6e5'\n",
      "Skipping unrecognised entry ID: 'promoted-tweet-1655830163819728906-a90f116b336ca32'\n",
      "Skipping unrecognised entry ID: 'promoted-tweet-1579467865916604417-a90ce545c3e674f'\n",
      "Skipping unrecognised entry ID: 'promoted-tweet-1653610333909467136-a90832278e6347a'\n",
      "Skipping unrecognised entry ID: 'promoted-tweet-1651493149800529926-a90fe4507d0ca77'\n",
      "Skipping unrecognised entry ID: 'promoted-tweet-1655830163819728906-a90a7e3f242fa63'\n",
      "Skipping unrecognised entry ID: 'promoted-tweet-1651493149800529926-a90bc35fbdbcc72'\n",
      "Skipping unrecognised entry ID: 'promoted-tweet-1652878006711615489-a905c1658089e69'\n",
      "Skipping unrecognised entry ID: 'promoted-tweet-1648895801702375424-a902399276d4d77'\n",
      "Skipping unrecognised entry ID: 'promoted-tweet-1651493149800529926-a90e1093893eea0'\n",
      "Skipping unrecognised entry ID: 'promoted-tweet-1656947329826709504-a907047e506a4ab'\n",
      "Skipping unrecognised entry ID: 'promoted-tweet-1648886682702483457-a907efd32e16fd8'\n",
      "Skipping unrecognised entry ID: 'promoted-tweet-1648895801702375424-a90c7ed3588b685'\n",
      "Skipping unrecognised entry ID: 'promoted-tweet-1652341978749710338-a90b3f69b84658e'\n",
      "Skipping unrecognised entry ID: 'promoted-tweet-1649352282960699393-a904305d846bc6b'\n",
      "Skipping unrecognised entry ID: 'promoted-tweet-1650530036707913729-a90eb9093939748'\n",
      "Skipping unrecognised entry ID: 'promoted-tweet-1652878005738299394-a905490f886babc'\n",
      "Skipping unrecognised entry ID: 'promoted-tweet-1654528689881874432-a90a4e346cc0df5'\n",
      "Skipping unrecognised entry ID: 'promoted-tweet-1651493149800529926-a90f7c106365abc'\n",
      "Skipping unrecognised entry ID: 'promoted-tweet-1652878006711615489-a90b96a1341a9a6'\n",
      "Skipping unrecognised entry ID: 'promoted-tweet-1655830163819728906-a902134903e9a37'\n",
      "Skipping unrecognised entry ID: 'promoted-tweet-1652878006711615489-a9017f169d814b1'\n",
      "Skipping unrecognised entry ID: 'promoted-tweet-1656690632356950016-a9033edf4ff614d'\n",
      "Skipping unrecognised entry ID: 'promoted-tweet-1651493210911576064-a90b5ef9d21e45c'\n",
      "query:  55%|█████▌    | 37/67 [02:55<02:32,  5.07s/it]"
     ]
    },
    {
     "name": "stdout",
     "output_type": "stream",
     "text": [
      "Tweet count : 100update -> date : 7 ,\n",
      " limit : 100\n",
      "start #いろはにも絵を...\n"
     ]
    },
    {
     "name": "stderr",
     "output_type": "stream",
     "text": [
      "Skipping unrecognised entry ID: 'promoted-tweet-1651493149800529926-a9074188e5d52f7'\n",
      "Skipping unrecognised entry ID: 'promoted-tweet-1656509438575149056-a902ba7e0763547'\n",
      "Skipping unrecognised entry ID: 'promoted-tweet-1648886682702483457-a900252dd7f582f'\n",
      "Skipping unrecognised entry ID: 'promoted-tweet-1656529566859665408-a901a001d29244b'\n",
      "Skipping unrecognised entry ID: 'promoted-tweet-1653610333909467136-a90e8466748448c'\n",
      "Skipping unrecognised entry ID: 'promoted-tweet-1607488378693378049-a90713ef15157cd'\n",
      "Skipping unrecognised entry ID: 'promoted-tweet-1651493149800529926-a9055ae84fc1467'\n",
      "Skipping unrecognised entry ID: 'promoted-tweet-1607488378693378049-a901be65b43a97e'\n",
      "Skipping unrecognised entry ID: 'promoted-tweet-1648895801702375424-a904774d3184b23'\n",
      "Skipping unrecognised entry ID: 'promoted-tweet-1653610333909467136-a905daa5f28072f'\n",
      "Skipping unrecognised entry ID: 'promoted-tweet-1651493149800529926-a90981e3f81e384'\n",
      "Skipping unrecognised entry ID: 'promoted-tweet-1607488378693378049-a9092b810db76d9'\n",
      "Skipping unrecognised entry ID: 'promoted-tweet-1607488378693378049-a90fd5b935ec1ae'\n",
      "Skipping unrecognised entry ID: 'promoted-tweet-1648895801702375424-a903212e493fca3'\n",
      "Skipping unrecognised entry ID: 'promoted-tweet-1654398661185638402-a90227ded6f390d'\n",
      "Skipping unrecognised entry ID: 'promoted-tweet-1654398661185638402-a905f75ee10cc45'\n",
      "Skipping unrecognised entry ID: 'promoted-tweet-1654528689881874432-a900d29a27bb04a'\n",
      "Skipping unrecognised entry ID: 'promoted-tweet-1579467865916604417-a902fa379b37544'\n",
      "Skipping unrecognised entry ID: 'promoted-tweet-1653610333909467136-a9058f89c5a0941'\n",
      "Skipping unrecognised entry ID: 'promoted-tweet-1650530036707913729-a9068e8b659058b'\n",
      "Skipping unrecognised entry ID: 'promoted-tweet-1651493210911576064-a904c7d3341019a'\n",
      "query:  57%|█████▋    | 38/67 [03:00<02:28,  5.12s/it]"
     ]
    },
    {
     "name": "stdout",
     "output_type": "stream",
     "text": [
      "Tweet count : 100update -> date : 7 ,\n",
      " limit : 100\n",
      "start #ioarts...\n"
     ]
    },
    {
     "name": "stderr",
     "output_type": "stream",
     "text": [
      "Skipping unrecognised entry ID: 'promoted-tweet-1648895801702375424-a90dc24abdb26e0'\n",
      "Skipping unrecognised entry ID: 'promoted-tweet-1656509438575149056-a90a6675292bb34'\n",
      "Skipping unrecognised entry ID: 'promoted-tweet-1651493210911576064-a903418cc73aacf'\n",
      "Skipping unrecognised entry ID: 'promoted-tweet-1651493149800529926-a90d26f1b67594d'\n",
      "Skipping unrecognised entry ID: 'promoted-tweet-1648895801702375424-a90606ff5f56ca8'\n",
      "Skipping unrecognised entry ID: 'promoted-tweet-1655882805010739205-a90594a9d7f3773'\n",
      "query:  58%|█████▊    | 39/67 [03:01<01:52,  4.03s/it]"
     ]
    },
    {
     "name": "stdout",
     "output_type": "stream",
     "text": [
      "update -> date : 7 ,\n",
      " limit : 100\n",
      "start #HoshinovArt...\n"
     ]
    },
    {
     "name": "stderr",
     "output_type": "stream",
     "text": [
      "Skipping unrecognised entry ID: 'promoted-tweet-1653610333909467136-a90c8f55bdda2a0'\n",
      "Skipping unrecognised entry ID: 'promoted-tweet-1651493149800529926-a9039fb0256d5cd'\n",
      "Skipping unrecognised entry ID: 'promoted-tweet-1607488378693378049-a90473dcd2ee7a6'\n",
      "Skipping unrecognised entry ID: 'promoted-tweet-1651493149800529926-a90567b0f3a0b77'\n",
      "Skipping unrecognised entry ID: 'promoted-tweet-1607488378693378049-a90883a7623a86b'\n",
      "Skipping unrecognised entry ID: 'promoted-tweet-1654398661185638402-a901c912805e62e'\n",
      "Skipping unrecognised entry ID: 'promoted-tweet-1656529566859665408-a90fbbe7fc3d14c'\n",
      "Skipping unrecognised entry ID: 'promoted-tweet-1651493149800529926-a900765587d7b3d'\n",
      "Skipping unrecognised entry ID: 'promoted-tweet-1648895801702375424-a90d77ec294c533'\n",
      "Skipping unrecognised entry ID: 'promoted-tweet-1649246579260555265-a9082d6de27112c'\n",
      "Skipping unrecognised entry ID: 'promoted-tweet-1653610333909467136-a90928e53d3fbde'\n",
      "Skipping unrecognised entry ID: 'promoted-tweet-1648895801702375424-a90781b69aaed20'\n",
      "Skipping unrecognised entry ID: 'promoted-tweet-1652878006711615489-a9064bac9e7a3f1'\n",
      "query:  60%|█████▉    | 40/67 [03:05<01:46,  3.94s/it]"
     ]
    },
    {
     "name": "stdout",
     "output_type": "stream",
     "text": [
      "update -> date : 7 ,\n",
      " limit : 100\n",
      "start #GambaRisu...\n"
     ]
    },
    {
     "name": "stderr",
     "output_type": "stream",
     "text": [
      "Skipping unrecognised entry ID: 'promoted-tweet-1651493149800529926-a90af7aaf5e99ce'\n",
      "query:  61%|██████    | 41/67 [03:06<01:17,  2.99s/it]"
     ]
    },
    {
     "name": "stdout",
     "output_type": "stream",
     "text": [
      "update -> date : 7 ,\n",
      " limit : 100\n",
      "start #graveyART...\n"
     ]
    },
    {
     "name": "stderr",
     "output_type": "stream",
     "text": [
      "Skipping unrecognised entry ID: 'promoted-tweet-1651493149800529926-a90c42a745501f1'\n",
      "Skipping unrecognised entry ID: 'promoted-tweet-1607488378693378049-a909df7add0167e'\n",
      "Skipping unrecognised entry ID: 'promoted-tweet-1656690632356950016-a90fe06e7720269'\n",
      "Skipping unrecognised entry ID: 'promoted-tweet-1655830163819728906-a90fa839c7cdb19'\n",
      "Skipping unrecognised entry ID: 'promoted-tweet-1652341978749710338-a9000138c0d5cc5'\n",
      "Skipping unrecognised entry ID: 'promoted-tweet-1647797467474448385-a90b88cfe0567ad'\n",
      "Skipping unrecognised entry ID: 'promoted-tweet-1651493149800529926-a9078a1169e3866'\n",
      "Skipping unrecognised entry ID: 'promoted-tweet-1648895801702375424-a90088031212317'\n",
      "Skipping unrecognised entry ID: 'promoted-tweet-1652689265409552384-a906049a831cf0d'\n",
      "Skipping unrecognised entry ID: 'promoted-tweet-1607488378693378049-a9019ed684d1c84'\n",
      "Skipping unrecognised entry ID: 'promoted-tweet-1652878006711615489-a90ffadfaccccf2'\n",
      "Skipping unrecognised entry ID: 'promoted-tweet-1656690632356950016-a90f0bf2f264d2c'\n",
      "Skipping unrecognised entry ID: 'promoted-tweet-1649246579260555265-a90d805e010cc59'\n",
      "Skipping unrecognised entry ID: 'promoted-tweet-1652878006711615489-a90db434ee8d4d2'\n",
      "Skipping unrecognised entry ID: 'promoted-tweet-1651493149800529926-a90104759ffa7d1'\n",
      "Skipping unrecognised entry ID: 'promoted-tweet-1651493149800529926-a907f55d6cce52c'\n",
      "Skipping unrecognised entry ID: 'promoted-tweet-1656690632356950016-a90c68273a5b838'\n",
      "Skipping unrecognised entry ID: 'promoted-tweet-1654398661185638402-a90c9e3e193816d'\n",
      "Skipping unrecognised entry ID: 'promoted-tweet-1651493149800529926-a90018122e99362'\n",
      "Skipping unrecognised entry ID: 'promoted-tweet-1648895801702375424-a90c14ebd4ddde9'\n",
      "Skipping unrecognised entry ID: 'promoted-tweet-1656509438575149056-a90e582839593ec'\n",
      "Skipping unrecognised entry ID: 'promoted-tweet-1653610333909467136-a90d530f5309918'\n",
      "query:  63%|██████▎   | 42/67 [03:14<01:53,  4.55s/it]"
     ]
    },
    {
     "name": "stdout",
     "output_type": "stream",
     "text": [
      "Tweet count : 100update -> date : 7 ,\n",
      " limit : 100\n",
      "start #anyatelier...\n"
     ]
    },
    {
     "name": "stderr",
     "output_type": "stream",
     "text": [
      "Skipping unrecognised entry ID: 'promoted-tweet-1651493149800529926-a90288de91caaa1'\n",
      "Skipping unrecognised entry ID: 'promoted-tweet-1656690632356950016-a90605c8aa6a99d'\n",
      "Skipping unrecognised entry ID: 'promoted-tweet-1652689277023838208-a90bc0369bb61ea'\n",
      "Skipping unrecognised entry ID: 'promoted-tweet-1656509438575149056-a90af53830630b8'\n",
      "Skipping unrecognised entry ID: 'promoted-tweet-1651493210911576064-a90d28b442d6d7a'\n",
      "Skipping unrecognised entry ID: 'promoted-tweet-1648886682702483457-a90d6cae503950e'\n",
      "query:  64%|██████▍   | 43/67 [03:16<01:28,  3.67s/it]"
     ]
    },
    {
     "name": "stdout",
     "output_type": "stream",
     "text": [
      "update -> date : 7 ,\n",
      " limit : 100\n",
      "start #Reinessance...\n"
     ]
    },
    {
     "name": "stderr",
     "output_type": "stream",
     "text": [
      "Skipping unrecognised entry ID: 'promoted-tweet-1607488378693378049-a908932d163e75b'\n",
      "Skipping unrecognised entry ID: 'promoted-tweet-1656509438575149056-a90c656100e4ef4'\n",
      "Skipping unrecognised entry ID: 'promoted-tweet-1651493210911576064-a9043d93401d031'\n",
      "Skipping unrecognised entry ID: 'promoted-tweet-1649246579260555265-a90935b7c779a6f'\n",
      "Skipping unrecognised entry ID: 'promoted-tweet-1651493149800529926-a9038a66e0e127b'\n",
      "Skipping unrecognised entry ID: 'promoted-tweet-1648895801702375424-a905bc9b5670e98'\n",
      "query:  66%|██████▌   | 44/67 [03:18<01:14,  3.26s/it]"
     ]
    },
    {
     "name": "stdout",
     "output_type": "stream",
     "text": [
      "update -> date : 7 ,\n",
      " limit : 100\n",
      "start #Zetacrylic...\n"
     ]
    },
    {
     "name": "stderr",
     "output_type": "stream",
     "text": [
      "Skipping unrecognised entry ID: 'promoted-tweet-1656529566859665408-a90ab47338b8775'\n",
      "Skipping unrecognised entry ID: 'promoted-tweet-1648895801702375424-a90c835ca452ee8'\n",
      "Skipping unrecognised entry ID: 'promoted-tweet-1654528689881874432-a900a0cbffcced3'\n",
      "Skipping unrecognised entry ID: 'promoted-tweet-1607488378693378049-a90e8910808c2b8'\n",
      "Skipping unrecognised entry ID: 'promoted-tweet-1648895801702375424-a90a63d81501e69'\n",
      "Skipping unrecognised entry ID: 'promoted-tweet-1656509438575149056-a90b5951fdd42fc'\n",
      "Skipping unrecognised entry ID: 'promoted-tweet-1651493149800529926-a902007c00cedb2'\n",
      "Skipping unrecognised entry ID: 'promoted-tweet-1607488378693378049-a9031d4dfe4bb2e'\n",
      "Skipping unrecognised entry ID: 'promoted-tweet-1650530036707913729-a90cfeff6703f8c'\n",
      "Skipping unrecognised entry ID: 'promoted-tweet-1651493149800529926-a90d39c2c71404c'\n",
      "Skipping unrecognised entry ID: 'promoted-tweet-1607488378693378049-a902fe0fb741da0'\n",
      "Skipping unrecognised entry ID: 'promoted-tweet-1648895801702375424-a9019a1a503b542'\n",
      "Skipping unrecognised entry ID: 'promoted-tweet-1651493149800529926-a906f4bbe528eb5'\n",
      "Skipping unrecognised entry ID: 'promoted-tweet-1607488378693378049-a9051a01f1537d6'\n",
      "query:  67%|██████▋   | 45/67 [03:21<01:12,  3.31s/it]"
     ]
    },
    {
     "name": "stdout",
     "output_type": "stream",
     "text": [
      "update -> date : 7 ,\n",
      " limit : 100\n",
      "start #inKaela...\n"
     ]
    },
    {
     "name": "stderr",
     "output_type": "stream",
     "text": [
      "Skipping unrecognised entry ID: 'promoted-tweet-1651057006671699973-a902d42ae7833ba'\n",
      "Skipping unrecognised entry ID: 'promoted-tweet-1649246579260555265-a900d8caf238987'\n",
      "Skipping unrecognised entry ID: 'promoted-tweet-1651493210911576064-a90983c95bf2f0e'\n",
      "Skipping unrecognised entry ID: 'promoted-tweet-1653610333909467136-a906b868638de31'\n",
      "Skipping unrecognised entry ID: 'promoted-tweet-1607488378693378049-a90086338bd307f'\n",
      "Skipping unrecognised entry ID: 'promoted-tweet-1651493210911576064-a90f94759b7407e'\n",
      "Skipping unrecognised entry ID: 'promoted-tweet-1607488378693378049-a90e45a17860c6d'\n",
      "Skipping unrecognised entry ID: 'promoted-tweet-1648895801702375424-a903c799fc72628'\n",
      "Skipping unrecognised entry ID: 'promoted-tweet-1651493210911576064-a903f4abe697024'\n",
      "Skipping unrecognised entry ID: 'promoted-tweet-1653610333909467136-a9013c039de2c95'\n",
      "Skipping unrecognised entry ID: 'promoted-tweet-1648895801702375424-a9046735c4f1630'\n",
      "Skipping unrecognised entry ID: 'promoted-tweet-1651493210911576064-a90e4c89eec0aeb'\n",
      "Skipping unrecognised entry ID: 'promoted-tweet-1653610333909467136-a90eff6408c8622'\n",
      "Skipping unrecognised entry ID: 'promoted-tweet-1651493149800529926-a9016fa3023b817'\n",
      "Skipping unrecognised entry ID: 'promoted-tweet-1648895801702375424-a90d340754a1815'\n",
      "Skipping unrecognised entry ID: 'promoted-tweet-1652878006711615489-a90c013ca21bedb'\n",
      "Skipping unrecognised entry ID: 'promoted-tweet-1656266235598848003-a906ff609d44813'\n",
      "Skipping unrecognised entry ID: 'promoted-tweet-1657023461254889474-a9033dd44fb1411'\n",
      "Skipping unrecognised entry ID: 'promoted-tweet-1607488378693378049-a90ccc8d8c9495d'\n",
      "Skipping unrecognised entry ID: 'promoted-tweet-1654398661185638402-a9092426ed7bbd8'\n",
      "query:  69%|██████▊   | 46/67 [03:27<01:21,  3.86s/it]"
     ]
    },
    {
     "name": "stdout",
     "output_type": "stream",
     "text": [
      "Tweet count : 100update -> date : 7 ,\n",
      " limit : 100\n",
      "start #AeruSeni...\n"
     ]
    },
    {
     "name": "stderr",
     "output_type": "stream",
     "text": [
      "Skipping unrecognised entry ID: 'promoted-tweet-1651493149800529926-a90165570382c50'\n",
      "Skipping unrecognised entry ID: 'promoted-tweet-1648886682702483457-a909588616709a3'\n",
      "Skipping unrecognised entry ID: 'promoted-tweet-1652878006711615489-a909a2d25af1686'\n",
      "Skipping unrecognised entry ID: 'promoted-tweet-1652878006711615489-a90e7c271bf38be'\n",
      "Skipping unrecognised entry ID: 'promoted-tweet-1607488378693378049-a90d176a139f299'\n",
      "Skipping unrecognised entry ID: 'promoted-tweet-1650530036707913729-a90eaec5c54a26c'\n",
      "Skipping unrecognised entry ID: 'promoted-tweet-1651493149800529926-a9050be3da69153'\n",
      "Skipping unrecognised entry ID: 'promoted-tweet-1607488378693378049-a907f0a75240f47'\n",
      "Skipping unrecognised entry ID: 'promoted-tweet-1652878006711615489-a90b02b13fe0482'\n",
      "Skipping unrecognised entry ID: 'promoted-tweet-1652878006711615489-a90da56a564e988'\n",
      "Skipping unrecognised entry ID: 'promoted-tweet-1648895801702375424-a90c1720a3bd8b0'\n",
      "Skipping unrecognised entry ID: 'promoted-tweet-1607488378693378049-a90196750f26bc0'\n",
      "Skipping unrecognised entry ID: 'promoted-tweet-1652878006711615489-a9096aea59af906'\n",
      "Skipping unrecognised entry ID: 'promoted-tweet-1656178972844244993-a90fed1c100e7ac'\n",
      "Skipping unrecognised entry ID: 'promoted-tweet-1647797591290302465-a9013bb0198cef1'\n",
      "Skipping unrecognised entry ID: 'promoted-tweet-1648886682702483457-a90cf0d71d735ce'\n",
      "Skipping unrecognised entry ID: 'promoted-tweet-1648899289337450497-a906fce83d79a28'\n",
      "Skipping unrecognised entry ID: 'promoted-tweet-1654750469019844609-a903820203e5003'\n",
      "query:  70%|███████   | 47/67 [03:31<01:21,  4.07s/it]"
     ]
    },
    {
     "name": "stdout",
     "output_type": "stream",
     "text": [
      "update -> date : 7 ,\n",
      " limit : 100\n",
      "start #callillust...\n"
     ]
    },
    {
     "name": "stderr",
     "output_type": "stream",
     "text": [
      "Skipping unrecognised entry ID: 'promoted-tweet-1653610333909467136-a90e54781529b37'\n",
      "Skipping unrecognised entry ID: 'promoted-tweet-1648895801702375424-a90f2e886f4cc0a'\n",
      "Skipping unrecognised entry ID: 'promoted-tweet-1651493149800529926-a903eda24d9331a'\n",
      "Skipping unrecognised entry ID: 'promoted-tweet-1652878006711615489-a906b0a9bb96936'\n",
      "Skipping unrecognised entry ID: 'promoted-tweet-1648895801702375424-a90f74b635ad7ba'\n",
      "Skipping unrecognised entry ID: 'promoted-tweet-1607488378693378049-a90157b6547e801'\n",
      "Skipping unrecognised entry ID: 'promoted-tweet-1653610333909467136-a908ac29f9adb4d'\n",
      "Skipping unrecognised entry ID: 'promoted-tweet-1651493149800529926-a9041c83f1296f3'\n",
      "Skipping unrecognised entry ID: 'promoted-tweet-1607488378693378049-a90c723c5ff3427'\n",
      "Skipping unrecognised entry ID: 'promoted-tweet-1648895801702375424-a901737c8f17396'\n",
      "Skipping unrecognised entry ID: 'promoted-tweet-1651493149800529926-a90470a572d0c3b'\n",
      "Skipping unrecognised entry ID: 'promoted-tweet-1652878005738299394-a9043db8387b8ba'\n",
      "Skipping unrecognised entry ID: 'promoted-tweet-1653610333909467136-a909fec23d70a45'\n",
      "Skipping unrecognised entry ID: 'promoted-tweet-1607488378693378049-a90a3442aefa200'\n",
      "Skipping unrecognised entry ID: 'promoted-tweet-1651493149800529926-a9053dfeb0ef2f9'\n",
      "Skipping unrecognised entry ID: 'promoted-tweet-1656529566859665408-a90c58b9eff53be'\n",
      "Skipping unrecognised entry ID: 'promoted-tweet-1607488378693378049-a904a31e9e87a88'\n",
      "Skipping unrecognised entry ID: 'promoted-tweet-1648895801702375424-a90fc3dfa594670'\n",
      "Skipping unrecognised entry ID: 'promoted-tweet-1651493149800529926-a90424e5c6862cb'\n",
      "Skipping unrecognised entry ID: 'promoted-tweet-1607488378693378049-a900c967440aeef'\n",
      "Skipping unrecognised entry ID: 'promoted-tweet-1654398661185638402-a902cf55b030797'\n",
      "query:  72%|███████▏  | 48/67 [03:37<01:26,  4.56s/it]"
     ]
    },
    {
     "name": "stdout",
     "output_type": "stream",
     "text": [
      "Tweet count : 100update -> date : 7 ,\n",
      " limit : 100\n",
      "start #カリイラスト...\n"
     ]
    },
    {
     "name": "stderr",
     "output_type": "stream",
     "text": [
      "Skipping unrecognised entry ID: 'promoted-tweet-1648895801702375424-a9063110ff47b4d'\n",
      "Skipping unrecognised entry ID: 'promoted-tweet-1652878006711615489-a90cb9b1bfc0a39'\n",
      "Skipping unrecognised entry ID: 'promoted-tweet-1651493149800529926-a90e24a0edd14a1'\n",
      "query:  73%|███████▎  | 49/67 [03:38<01:01,  3.44s/it]"
     ]
    },
    {
     "name": "stdout",
     "output_type": "stream",
     "text": [
      "update -> date : 7 ,\n",
      " limit : 100\n",
      "start #artsofashes...\n"
     ]
    },
    {
     "name": "stderr",
     "output_type": "stream",
     "text": [
      "Skipping unrecognised entry ID: 'promoted-tweet-1648886682702483457-a90a8ec9aa97777'\n",
      "Skipping unrecognised entry ID: 'promoted-tweet-1655882805010739205-a90d4653bdbb286'\n",
      "Skipping unrecognised entry ID: 'promoted-tweet-1651370348804440065-a9071dc6d333a39'\n",
      "Skipping unrecognised entry ID: 'promoted-tweet-1653610333909467136-a90ad372e8e6dff'\n",
      "Skipping unrecognised entry ID: 'promoted-tweet-1651493149800529926-a9040394b5db725'\n",
      "Skipping unrecognised entry ID: 'promoted-tweet-1648895801702375424-a905887d17c13bd'\n",
      "Skipping unrecognised entry ID: 'promoted-tweet-1650530036707913729-a90b5d9c7f47727'\n",
      "Skipping unrecognised entry ID: 'promoted-tweet-1654398661185638402-a9029799469b896'\n",
      "Skipping unrecognised entry ID: 'promoted-tweet-1651493149800529926-a909e4ac1fd9234'\n",
      "query:  75%|███████▍  | 50/67 [03:40<00:53,  3.14s/it]"
     ]
    },
    {
     "name": "stdout",
     "output_type": "stream",
     "text": [
      "update -> date : 7 ,\n",
      " limit : 100\n",
      "start #絵ニックス...\n"
     ]
    },
    {
     "name": "stderr",
     "output_type": "stream",
     "text": [
      "Skipping unrecognised entry ID: 'promoted-tweet-1651493149800529926-a900135b3863527'\n",
      "Skipping unrecognised entry ID: 'promoted-tweet-1649442880312819712-a90de8783785cc8'\n",
      "query:  76%|███████▌  | 51/67 [03:41<00:39,  2.44s/it]"
     ]
    },
    {
     "name": "stdout",
     "output_type": "stream",
     "text": [
      "update -> date : 7 ,\n",
      " limit : 100\n",
      "start #inART...\n"
     ]
    },
    {
     "name": "stderr",
     "output_type": "stream",
     "text": [
      "Skipping unrecognised entry ID: 'promoted-tweet-1648895801702375424-a9029d6fde31297'\n",
      "Skipping unrecognised entry ID: 'promoted-tweet-1651493149800529926-a907d3d951d4812'\n",
      "Skipping unrecognised entry ID: 'promoted-tweet-1652878005738299394-a9044c8258f6ece'\n",
      "Skipping unrecognised entry ID: 'promoted-tweet-1656690632356950016-a90b23b054325f2'\n",
      "Skipping unrecognised entry ID: 'promoted-tweet-1655882805010739205-a90b51c101d9da4'\n",
      "Skipping unrecognised entry ID: 'promoted-tweet-1647797591290302465-a908e3beb01d6d9'\n",
      "Skipping unrecognised entry ID: 'promoted-tweet-1651493149800529926-a9084df64e12b09'\n",
      "Skipping unrecognised entry ID: 'promoted-tweet-1648895801702375424-a90b01b07a5843f'\n",
      "Skipping unrecognised entry ID: 'promoted-tweet-1654398661185638402-a900459d76003c3'\n",
      "Skipping unrecognised entry ID: 'promoted-tweet-1651493149800529926-a907516b1b4584a'\n",
      "Skipping unrecognised entry ID: 'promoted-tweet-1648895801702375424-a90e8c1d4e3ad12'\n",
      "Skipping unrecognised entry ID: 'promoted-tweet-1656947320209182720-a903b83c7fb6a43'\n",
      "Skipping unrecognised entry ID: 'promoted-tweet-1651493210911576064-a90d9a966188c41'\n",
      "Skipping unrecognised entry ID: 'promoted-tweet-1652341978749710338-a9013794ba29bab'\n",
      "Skipping unrecognised entry ID: 'promoted-tweet-1656266235376484353-a904d3bf5e741a8'\n",
      "Skipping unrecognised entry ID: 'promoted-tweet-1651493149800529926-a90a8ddb0b109a4'\n",
      "Skipping unrecognised entry ID: 'promoted-tweet-1648895801702375424-a90ff72a98ceadb'\n",
      "Skipping unrecognised entry ID: 'promoted-tweet-1654750469019844609-a90d620e0ac3483'\n",
      "Skipping unrecognised entry ID: 'promoted-tweet-1655882808017973248-a9001c6df5a0264'\n",
      "Skipping unrecognised entry ID: 'promoted-tweet-1648895801702375424-a9053279c46e35d'\n",
      "Skipping unrecognised entry ID: 'promoted-tweet-1651493210911576064-a900cd143e7e88c'\n",
      "Skipping unrecognised entry ID: 'promoted-tweet-1607488378693378049-a90aef1179af722'\n",
      "Skipping unrecognised entry ID: 'promoted-tweet-1656509438575149056-a902924a32cfd0e'\n",
      "Skipping unrecognised entry ID: 'promoted-tweet-1648886682702483457-a90c359ffd51900'\n",
      "Skipping unrecognised entry ID: 'promoted-tweet-1656529566859665408-a909bae0ace5b1f'\n",
      "Skipping unrecognised entry ID: 'promoted-tweet-1653610333909467136-a90c531293d5704'\n",
      "Skipping unrecognised entry ID: 'promoted-tweet-1607488378693378049-a90a6b1ca8875a9'\n",
      "Skipping unrecognised entry ID: 'promoted-tweet-1653610333909467136-a90eb7be7a76df7'\n",
      "Skipping unrecognised entry ID: 'promoted-tweet-1607488378693378049-a90bb13742a9938'\n",
      "Skipping unrecognised entry ID: 'promoted-tweet-1651493149800529926-a9023848d7da33f'\n",
      "Skipping unrecognised entry ID: 'promoted-tweet-1656690632356950016-a90e75d6af437cb'\n",
      "Skipping unrecognised entry ID: 'promoted-tweet-1654398661185638402-a9085c00c86bb26'\n",
      "Skipping unrecognised entry ID: 'promoted-tweet-1656266235598848003-a90f9c6c0e2ae80'\n",
      "Skipping unrecognised entry ID: 'promoted-tweet-1651493149800529926-a905266d5f32281'\n",
      "Skipping unrecognised entry ID: 'promoted-tweet-1656690632356950016-a909b872a20a9c2'\n",
      "Skipping unrecognised entry ID: 'promoted-tweet-1654398661185638402-a90b108f907a5b8'\n",
      "Skipping unrecognised entry ID: 'promoted-tweet-1607488378693378049-a909dfdd13e4331'\n",
      "Skipping unrecognised entry ID: 'promoted-tweet-1651493149800529926-a9073803e93dd85'\n",
      "Skipping unrecognised entry ID: 'promoted-tweet-1650530036707913729-a901515274667be'\n",
      "Skipping unrecognised entry ID: 'promoted-tweet-1650530036707913729-a9018fb996e6f29'\n",
      "Skipping unrecognised entry ID: 'promoted-tweet-1652878005738299394-a900f482593504b'\n",
      "Skipping unrecognised entry ID: 'promoted-tweet-1651493210911576064-a908d4414026863'\n",
      "Skipping unrecognised entry ID: 'promoted-tweet-1607488378693378049-a903c37b0c6dba8'\n",
      "Skipping unrecognised entry ID: 'promoted-tweet-1655882808017973248-a90888cbbf2f3d1'\n",
      "Skipping unrecognised entry ID: 'promoted-tweet-1656690632356950016-a90835043b7afa1'\n",
      "Skipping unrecognised entry ID: 'promoted-tweet-1607488378693378049-a906ac61a729aa5'\n",
      "Skipping unrecognised entry ID: 'promoted-tweet-1648895801702375424-a908dcfff75a15a'\n",
      "Skipping unrecognised entry ID: 'promoted-tweet-1651493210911576064-a90a755141a9891'\n",
      "Skipping unrecognised entry ID: 'promoted-tweet-1607488378693378049-a90620e5e397777'\n",
      "Skipping unrecognised entry ID: 'promoted-tweet-1651493149800529926-a90b9825411b8ba'\n",
      "Skipping unrecognised entry ID: 'promoted-tweet-1656947329826709504-a900cfc0a6fa12e'\n",
      "Skipping unrecognised entry ID: 'promoted-tweet-1653610333909467136-a9028b68adf8dd7'\n",
      "Skipping unrecognised entry ID: 'promoted-tweet-1656690632356950016-a905ceee2ff851b'\n",
      "Skipping unrecognised entry ID: 'promoted-tweet-1607488378693378049-a90728bbe6b6564'\n",
      "Skipping unrecognised entry ID: 'promoted-tweet-1651493149800529926-a90939b2df47d34'\n",
      "Skipping unrecognised entry ID: 'promoted-tweet-1655830163819728906-a901c79a25c81ec'\n",
      "Skipping unrecognised entry ID: 'promoted-tweet-1653610333909467136-a9094a03be83d61'\n",
      "Skipping unrecognised entry ID: 'promoted-tweet-1648895801702375424-a9033d0c6e53473'\n",
      "Skipping unrecognised entry ID: 'promoted-tweet-1651493149800529926-a9005f245ca1aab'\n",
      "Skipping unrecognised entry ID: 'promoted-tweet-1607488378693378049-a90c042f4b18eab'\n",
      "Skipping unrecognised entry ID: 'promoted-tweet-1655882808017973248-a90e4e55be66ac8'\n",
      "Skipping unrecognised entry ID: 'promoted-tweet-1651493149800529926-a909adacb0cf912'\n",
      "Skipping unrecognised entry ID: 'promoted-tweet-1653610333909467136-a9010a660817be3'\n",
      "Skipping unrecognised entry ID: 'promoted-tweet-1648886682702483457-a904b1563b9e620'\n",
      "Skipping unrecognised entry ID: 'promoted-tweet-1651493210911576064-a90eaaf28dfd44b'\n",
      "Skipping unrecognised entry ID: 'promoted-tweet-1653610333909467136-a9071a30bbaee80'\n",
      "Skipping unrecognised entry ID: 'promoted-tweet-1648895801702375424-a903f31a037fba9'\n",
      "Skipping unrecognised entry ID: 'promoted-tweet-1647797591290302465-a90c5d8751259fd'\n",
      "Skipping unrecognised entry ID: 'promoted-tweet-1648895801702375424-a90e257a63e89e1'\n",
      "Skipping unrecognised entry ID: 'promoted-tweet-1651493210911576064-a903dc45aeded1c'\n",
      "Skipping unrecognised entry ID: 'promoted-tweet-1656909571808546817-a90c322f2acc2bc'\n",
      "Skipping unrecognised entry ID: 'promoted-tweet-1648895801702375424-a90fdf3a72510a8'\n",
      "Skipping unrecognised entry ID: 'promoted-tweet-1652878005738299394-a90014006ac2c28'\n",
      "Skipping unrecognised entry ID: 'promoted-tweet-1647797591290302465-a901b59d249f953'\n",
      "Skipping unrecognised entry ID: 'promoted-tweet-1651057006671699973-a90b8e48d6871a9'\n",
      "Skipping unrecognised entry ID: 'promoted-tweet-1649246579260555265-a90fc8fac4b5766'\n",
      "Skipping unrecognised entry ID: 'promoted-tweet-1648895801702375424-a901af2b982c74d'\n",
      "Skipping unrecognised entry ID: 'promoted-tweet-1651057006726266880-a90cff454ce183c'\n",
      "Skipping unrecognised entry ID: 'promoted-tweet-1648895801702375424-a90274b27af0b5f'\n",
      "Skipping unrecognised entry ID: 'promoted-tweet-1652878006711615489-a9066328afd7826'\n",
      "Skipping unrecognised entry ID: 'promoted-tweet-1607488378693378049-a908be3b31ed58d'\n",
      "Skipping unrecognised entry ID: 'promoted-tweet-1651493149800529926-a908b13db6fdf60'\n",
      "Skipping unrecognised entry ID: 'promoted-tweet-1648895801702375424-a901ddfa814d109'\n",
      "Skipping unrecognised entry ID: 'promoted-tweet-1652878005738299394-a907c8eddfe941f'\n",
      "Skipping unrecognised entry ID: 'promoted-tweet-1655887186879717376-a904671fc62ca22'\n",
      "Skipping unrecognised entry ID: 'promoted-tweet-1625759061957390343-a90b1be0e749eca'\n",
      "Skipping unrecognised entry ID: 'promoted-tweet-1652878005738299394-a901229bb6c8ca8'\n",
      "Skipping unrecognised entry ID: 'promoted-tweet-1649442880312819712-a901640aad2ccb2'\n",
      "Skipping unrecognised entry ID: 'promoted-tweet-1652689277023838208-a90fc2c09cbddd7'\n",
      "Skipping unrecognised entry ID: 'promoted-tweet-1607488378693378049-a900f9947d10aa9'\n",
      "Skipping unrecognised entry ID: 'promoted-tweet-1651493149800529926-a90a26dc746d6b5'\n",
      "Skipping unrecognised entry ID: 'promoted-tweet-1648895801702375424-a904fa377aeb9e0'\n",
      "Skipping unrecognised entry ID: 'promoted-tweet-1648895801702375424-a90a817894766d7'\n",
      "Skipping unrecognised entry ID: 'promoted-tweet-1654750469019844609-a90c83c534d9b23'\n",
      "Skipping unrecognised entry ID: 'promoted-tweet-1654528689881874432-a90dc6e13ad8dda'\n",
      "Skipping unrecognised entry ID: 'promoted-tweet-1651493149800529926-a902d3e37ea7635'\n",
      "Skipping unrecognised entry ID: 'promoted-tweet-1656509438575149056-a90f4d9554c9356'\n",
      "Skipping unrecognised entry ID: 'promoted-tweet-1649442880312819712-a90610c64a3cf6c'\n",
      "Skipping unrecognised entry ID: 'promoted-tweet-1650530036707913729-a905261c682f5fc'\n",
      "Skipping unrecognised entry ID: 'promoted-tweet-1654398661185638402-a903ba36f3041c5'\n",
      "Skipping unrecognised entry ID: 'promoted-tweet-1651493210911576064-a9008bffac4fe82'\n",
      "Skipping unrecognised entry ID: 'promoted-tweet-1648895801702375424-a908b1fb8aa0145'\n",
      "Skipping unrecognised entry ID: 'promoted-tweet-1655882931066241025-a90802a0dd7bb26'\n",
      "Skipping unrecognised entry ID: 'promoted-tweet-1652689265409552384-a90b75330a3682b'\n",
      "Skipping unrecognised entry ID: 'promoted-tweet-1653610333909467136-a90ae13f5aa5d4f'\n",
      "Skipping unrecognised entry ID: 'promoted-tweet-1656690632356950016-a902b6c84229ba6'\n",
      "Skipping unrecognised entry ID: 'promoted-tweet-1652689265409552384-a90e0b8358f85ad'\n",
      "Skipping unrecognised entry ID: 'promoted-tweet-1651493149800529926-a9034355ca60363'\n",
      "Skipping unrecognised entry ID: 'promoted-tweet-1652878006711615489-a90c883c6cc97f1'\n",
      "Skipping unrecognised entry ID: 'promoted-tweet-1648895801702375424-a9097def8e89b31'\n",
      "Skipping unrecognised entry ID: 'promoted-tweet-1607488378693378049-a900aac03f9ff9a'\n",
      "Skipping unrecognised entry ID: 'promoted-tweet-1651493149800529926-a908542d3527254'\n",
      "Skipping unrecognised entry ID: 'promoted-tweet-1656690632356950016-a908545565aa15e'\n",
      "Skipping unrecognised entry ID: 'promoted-tweet-1653610333909467136-a902401c376d0a6'\n",
      "Skipping unrecognised entry ID: 'promoted-tweet-1607488378693378049-a90dc6052677351'\n",
      "Skipping unrecognised entry ID: 'promoted-tweet-1651493149800529926-a90be136254550e'\n",
      "Skipping unrecognised entry ID: 'promoted-tweet-1653610333909467136-a9020f946cc6bc1'\n",
      "Skipping unrecognised entry ID: 'promoted-tweet-1648895801702375424-a9086a19bedb552'\n",
      "Skipping unrecognised entry ID: 'promoted-tweet-1656266235439398914-a904fa32f1c44b5'\n",
      "Skipping unrecognised entry ID: 'promoted-tweet-1607488378693378049-a90c8421907f651'\n",
      "Skipping unrecognised entry ID: 'promoted-tweet-1648895801702375424-a90256edacc5ec0'\n",
      "Skipping unrecognised entry ID: 'promoted-tweet-1652878006711615489-a90e641e05c0c1d'\n",
      "Skipping unrecognised entry ID: 'promoted-tweet-1652878006711615489-a9014a439eb9e38'\n",
      "Skipping unrecognised entry ID: 'promoted-tweet-1648895801702375424-a90821516e8f21f'\n",
      "Skipping unrecognised entry ID: 'promoted-tweet-1651493210911576064-a90a4a7b20f1dad'\n",
      "Skipping unrecognised entry ID: 'promoted-tweet-1652878006711615489-a9042d5d2ff5c55'\n",
      "Skipping unrecognised entry ID: 'promoted-tweet-1649442880312819712-a9078a2983edc07'\n",
      "Skipping unrecognised entry ID: 'promoted-tweet-1655503052848222211-a90d1780e35fa07'\n",
      "Skipping unrecognised entry ID: 'promoted-tweet-1648895801702375424-a902cbf70dd4037'\n",
      "Skipping unrecognised entry ID: 'promoted-tweet-1652878006711615489-a900835b087fc34'\n",
      "Skipping unrecognised entry ID: 'promoted-tweet-1607488378693378049-a90268ae730ed29'\n",
      "Skipping unrecognised entry ID: 'promoted-tweet-1651493149800529926-a900b1bf63bf0a6'\n",
      "Skipping unrecognised entry ID: 'promoted-tweet-1607488378693378049-a90fda2215d77c8'\n",
      "Skipping unrecognised entry ID: 'promoted-tweet-1652878005738299394-a9065263ef5d024'\n",
      "Skipping unrecognised entry ID: 'promoted-tweet-1651493149800529926-a9022693b2c047d'\n",
      "Skipping unrecognised entry ID: 'promoted-tweet-1650530036707913729-a90164de4c7f046'\n",
      "Skipping unrecognised entry ID: 'promoted-tweet-1607488378693378049-a904d4da4eaeff5'\n",
      "Skipping unrecognised entry ID: 'promoted-tweet-1656509438575149056-a90b04a60997d13'\n",
      "Skipping unrecognised entry ID: 'promoted-tweet-1650530036707913729-a904b43407185e8'\n",
      "Skipping unrecognised entry ID: 'promoted-tweet-1651493210911576064-a90dbba72257f8d'\n",
      "Skipping unrecognised entry ID: 'promoted-tweet-1653610333909467136-a9041630b209361'\n",
      "Skipping unrecognised entry ID: 'promoted-tweet-1651493149800529926-a9036f9eeebf90a'\n",
      "Skipping unrecognised entry ID: 'promoted-tweet-1655830163819728906-a906fcc036ff59d'\n",
      "Skipping unrecognised entry ID: 'promoted-tweet-1653610333909467136-a90c28ab8873529'\n",
      "Skipping unrecognised entry ID: 'promoted-tweet-1648895801702375424-a90a427b3f69ed7'\n",
      "Skipping unrecognised entry ID: 'promoted-tweet-1607488378693378049-a907d7de4731355'\n",
      "Skipping unrecognised entry ID: 'promoted-tweet-1651493149800529926-a90e6eb4cf99786'\n",
      "Skipping unrecognised entry ID: 'promoted-tweet-1656690632356950016-a90a86cb3688284'\n",
      "Skipping unrecognised entry ID: 'promoted-tweet-1656509439225249793-a906e5ca3e26d61'\n",
      "Skipping unrecognised entry ID: 'promoted-tweet-1651493149800529926-a908f9265505162'\n",
      "Skipping unrecognised entry ID: 'promoted-tweet-1652878006711615489-a903a9c159b978f'\n",
      "Skipping unrecognised entry ID: 'promoted-tweet-1656690632356950016-a90b964496c588a'\n",
      "Skipping unrecognised entry ID: 'promoted-tweet-1653610333909467136-a90ec95707fed0d'\n",
      "Skipping unrecognised entry ID: 'promoted-tweet-1607488378693378049-a9000146f1ba562'\n",
      "Skipping unrecognised entry ID: 'promoted-tweet-1651493210911576064-a90b66c83115690'\n",
      "Skipping unrecognised entry ID: 'promoted-tweet-1652878006711615489-a904290880e1f0a'\n",
      "Skipping unrecognised entry ID: 'promoted-tweet-1648895801702375424-a902a51143e6370'\n",
      "Skipping unrecognised entry ID: 'promoted-tweet-1647797467474448385-a90a859dd3a9995'\n",
      "Skipping unrecognised entry ID: 'promoted-tweet-1656509438575149056-a9006771ffe219d'\n",
      "Skipping unrecognised entry ID: 'promoted-tweet-1656690632356950016-a905a3e2b8e4aeb'\n",
      "Skipping unrecognised entry ID: 'promoted-tweet-1607488378693378049-a90d9791cd7401a'\n",
      "Skipping unrecognised entry ID: 'promoted-tweet-1653610333909467136-a90196dcb078730'\n",
      "Skipping unrecognised entry ID: 'promoted-tweet-1650530036707913729-a904ad8be8a6b44'\n",
      "Skipping unrecognised entry ID: 'promoted-tweet-1651370429536411648-a90599a05f774b4'\n",
      "Skipping unrecognised entry ID: 'promoted-tweet-1651493149800529926-a907d968ba8f048'\n",
      "Skipping unrecognised entry ID: 'promoted-tweet-1654750469019844609-a9082aaa539a05c'\n",
      "Skipping unrecognised entry ID: 'promoted-tweet-1657053029118377998-a90e5270b8bb28e'\n",
      "Skipping unrecognised entry ID: 'promoted-tweet-1651493149800529926-a909c82ab88921a'\n",
      "Skipping unrecognised entry ID: 'promoted-tweet-1656690632356950016-a90c6b941abde32'\n",
      "Skipping unrecognised entry ID: 'promoted-tweet-1607488378693378049-a909edeae19201a'\n",
      "Skipping unrecognised entry ID: 'promoted-tweet-1651493149800529926-a90174e162a9e55'\n",
      "Skipping unrecognised entry ID: 'promoted-tweet-1648895801702375424-a907910c73532ac'\n",
      "Skipping unrecognised entry ID: 'promoted-tweet-1652878005738299394-a9074d2d7860726'\n",
      "Skipping unrecognised entry ID: 'promoted-tweet-1655830163819728906-a90f5d72e90c198'\n",
      "Skipping unrecognised entry ID: 'promoted-tweet-1654398661185638402-a905def3c31d5cc'\n",
      "Skipping unrecognised entry ID: 'promoted-tweet-1648657441133830144-a90dd894ea0d643'\n"
     ]
    },
    {
     "name": "stdout",
     "output_type": "stream",
     "text": [
      "Tweet count : 100"
     ]
    },
    {
     "name": "stderr",
     "output_type": "stream",
     "text": [
      "Skipping unrecognised entry ID: 'promoted-tweet-1651493149800529926-a90b1fe968d8c28'\n",
      "query:  78%|███████▊  | 52/67 [04:23<03:35, 14.35s/it]"
     ]
    },
    {
     "name": "stdout",
     "output_type": "stream",
     "text": [
      "Tweet count : 100update -> date : 7 ,\n",
      " limit : 100\n",
      "start #いなート...\n"
     ]
    },
    {
     "name": "stderr",
     "output_type": "stream",
     "text": [
      "Skipping unrecognised entry ID: 'promoted-tweet-1653610333909467136-a902fa7c5164e26'\n",
      "Skipping unrecognised entry ID: 'promoted-tweet-1651493149800529926-a9079b311ac6126'\n",
      "Skipping unrecognised entry ID: 'promoted-tweet-1607488378693378049-a902528f77bc564'\n",
      "Skipping unrecognised entry ID: 'promoted-tweet-1607488378693378049-a90e92cc058b86b'\n",
      "Skipping unrecognised entry ID: 'promoted-tweet-1651493210911576064-a9028972350997f'\n",
      "Skipping unrecognised entry ID: 'promoted-tweet-1656178972940705792-a90d0a76e68fbd7'\n",
      "Skipping unrecognised entry ID: 'promoted-tweet-1650530036707913729-a9118f420ce9372'\n",
      "Skipping unrecognised entry ID: 'promoted-tweet-1651493210911576064-a91303e012af0f9'\n",
      "Skipping unrecognised entry ID: 'promoted-tweet-1654772997625110529-a9167354e1b12de'\n",
      "Skipping unrecognised entry ID: 'promoted-tweet-1652878006711615489-a913d8b630672ff'\n",
      "Skipping unrecognised entry ID: 'promoted-tweet-1655830163819728906-a91d2cfe1e63ca1'\n",
      "Skipping unrecognised entry ID: 'promoted-tweet-1651370348804440065-a91247ec66b0006'\n",
      "Skipping unrecognised entry ID: 'promoted-tweet-1651493149800529926-a910c631831f02d'\n",
      "Skipping unrecognised entry ID: 'promoted-tweet-1648895801702375424-a91e119c867fc7c'\n",
      "Skipping unrecognised entry ID: 'promoted-tweet-1654750469019844609-a9103c0f8a9b2eb'\n",
      "Skipping unrecognised entry ID: 'promoted-tweet-1652878006711615489-a91cf72beeed29f'\n",
      "Skipping unrecognised entry ID: 'promoted-tweet-1650530036707913729-a915d032bbc7a78'\n",
      "Skipping unrecognised entry ID: 'promoted-tweet-1651370346006872066-a918940f554bdc6'\n",
      "query:  79%|███████▉  | 53/67 [04:27<02:39, 11.37s/it]"
     ]
    },
    {
     "name": "stdout",
     "output_type": "stream",
     "text": [
      "update -> date : 7 ,\n",
      " limit : 100\n",
      "start #gawrt...\n"
     ]
    },
    {
     "name": "stderr",
     "output_type": "stream",
     "text": [
      "Skipping unrecognised entry ID: 'promoted-tweet-1650530036707913729-a91069faceb7895'\n",
      "Skipping unrecognised entry ID: 'promoted-tweet-1651493210911576064-a9124c1d572e167'\n",
      "Skipping unrecognised entry ID: 'promoted-tweet-1652878005738299394-a91d058bddb5309'\n",
      "Skipping unrecognised entry ID: 'promoted-tweet-1654398661185638402-a91211beda4a2c3'\n",
      "Skipping unrecognised entry ID: 'promoted-tweet-1651493210911576064-a91826bfae28fe0'\n",
      "Skipping unrecognised entry ID: 'promoted-tweet-1649442880312819712-a913087a1606de9'\n",
      "Skipping unrecognised entry ID: 'promoted-tweet-1654750469019844609-a916abf41374eeb'\n",
      "Skipping unrecognised entry ID: 'promoted-tweet-1649442882666008582-a9133398a1a0862'\n",
      "Skipping unrecognised entry ID: 'promoted-tweet-1614804762003652614-a91abb2525567b4'\n",
      "Skipping unrecognised entry ID: 'promoted-tweet-1651057006671699973-a917029ae2bca5d'\n",
      "Skipping unrecognised entry ID: 'promoted-tweet-1649246579260555265-a914a9eb4fe8d75'\n",
      "Skipping unrecognised entry ID: 'promoted-tweet-1651493149800529926-a918468cddba9a4'\n",
      "Skipping unrecognised entry ID: 'promoted-tweet-1651493149800529926-a9144f74557a9d2'\n",
      "Skipping unrecognised entry ID: 'promoted-tweet-1648895801702375424-a910b4d1cfc7eed'\n",
      "Skipping unrecognised entry ID: 'promoted-tweet-1607488378693378049-a91f02caba8d6e4'\n",
      "Skipping unrecognised entry ID: 'promoted-tweet-1653610333909467136-a91333b6c9d500a'\n",
      "Skipping unrecognised entry ID: 'promoted-tweet-1651493149800529926-a91f0802e0512b1'\n",
      "Skipping unrecognised entry ID: 'promoted-tweet-1648895801702375424-a91051dff8a58be'\n",
      "Skipping unrecognised entry ID: 'promoted-tweet-1651057006671699973-a914b4b6e125075'\n",
      "Skipping unrecognised entry ID: 'promoted-tweet-1649246579260555265-a91001ce55ac922'\n",
      "Skipping unrecognised entry ID: 'promoted-tweet-1655878504599420930-a917257485a5dce'\n",
      "Skipping unrecognised entry ID: 'promoted-tweet-1607488378693378049-a915869d8561839'\n",
      "Skipping unrecognised entry ID: 'promoted-tweet-1656690632356950016-a91a7fbb11dc324'\n",
      "Skipping unrecognised entry ID: 'promoted-tweet-1654398661185638402-a9166f5d951a80d'\n",
      "query:  81%|████████  | 54/67 [04:33<02:05,  9.67s/it]"
     ]
    },
    {
     "name": "stdout",
     "output_type": "stream",
     "text": [
      "Tweet count : 100update -> date : 7 ,\n",
      " limit : 100\n",
      "start #ameliaRT...\n"
     ]
    },
    {
     "name": "stderr",
     "output_type": "stream",
     "text": [
      "Skipping unrecognised entry ID: 'promoted-tweet-1651493149800529926-a91696a0b3aaf0b'\n",
      "Skipping unrecognised entry ID: 'promoted-tweet-1655830163819728906-a91a63cb649017f'\n",
      "Skipping unrecognised entry ID: 'promoted-tweet-1652878005738299394-a9166dcaeb80661'\n",
      "Skipping unrecognised entry ID: 'promoted-tweet-1607488378693378049-a91c7692baf1f15'\n",
      "Skipping unrecognised entry ID: 'promoted-tweet-1648886682702483457-a914599e211c511'\n",
      "Skipping unrecognised entry ID: 'promoted-tweet-1651493210911576064-a919fb5124d56b8'\n",
      "Skipping unrecognised entry ID: 'promoted-tweet-1648895801702375424-a9175cac3108701'\n",
      "Skipping unrecognised entry ID: 'promoted-tweet-1654398661185638402-a91f46b583ff030'\n",
      "Skipping unrecognised entry ID: 'promoted-tweet-1607488378693378049-a914557f646b556'\n",
      "Skipping unrecognised entry ID: 'promoted-tweet-1651493149800529926-a91c33169c36df5'\n",
      "Skipping unrecognised entry ID: 'promoted-tweet-1655882808017973248-a91525d1ade2cff'\n",
      "Skipping unrecognised entry ID: 'promoted-tweet-1607488378693378049-a919ff2b180fb63'\n",
      "Skipping unrecognised entry ID: 'promoted-tweet-1656529566859665408-a912d1cc4518e96'\n",
      "Skipping unrecognised entry ID: 'promoted-tweet-1648895801702375424-a9167b40de4ec66'\n",
      "Skipping unrecognised entry ID: 'promoted-tweet-1652878006711615489-a917fbc88fe1215'\n",
      "Skipping unrecognised entry ID: 'promoted-tweet-1607488378693378049-a91126e23924d1c'\n",
      "Skipping unrecognised entry ID: 'promoted-tweet-1655830163819728906-a913be39fddf308'\n",
      "Skipping unrecognised entry ID: 'promoted-tweet-1652341978749710338-a91efa0c3d6fc47'\n",
      "query:  82%|████████▏ | 55/67 [04:38<01:39,  8.27s/it]"
     ]
    },
    {
     "name": "stdout",
     "output_type": "stream",
     "text": [
      "Tweet count : 100update -> date : 7 ,\n",
      " limit : 100\n",
      "start #IRySart...\n"
     ]
    },
    {
     "name": "stderr",
     "output_type": "stream",
     "text": [
      "Skipping unrecognised entry ID: 'promoted-tweet-1649246579260555265-a91d21d04d514c7'\n",
      "Skipping unrecognised entry ID: 'promoted-tweet-1651493149800529926-a919f44e6102b8f'\n",
      "Skipping unrecognised entry ID: 'promoted-tweet-1652878006711615489-a918450809eccd3'\n",
      "Skipping unrecognised entry ID: 'promoted-tweet-1651493149800529926-a91b4ca783f2d8b'\n",
      "Skipping unrecognised entry ID: 'promoted-tweet-1650530036707913729-a917f5d3bdc864c'\n",
      "Skipping unrecognised entry ID: 'promoted-tweet-1607488378693378049-a91345a7bc3a6f7'\n",
      "Skipping unrecognised entry ID: 'promoted-tweet-1648895801702375424-a9154c362099315'\n",
      "Skipping unrecognised entry ID: 'promoted-tweet-1655882808017973248-a919b6e5820e0e5'\n",
      "Skipping unrecognised entry ID: 'promoted-tweet-1607488378693378049-a916fb5dac50a1a'\n",
      "Skipping unrecognised entry ID: 'promoted-tweet-1655830163819728906-a918f7e58649a9e'\n",
      "Skipping unrecognised entry ID: 'promoted-tweet-1651493210911576064-a91420c4715aa8d'\n",
      "Skipping unrecognised entry ID: 'promoted-tweet-1654528689881874432-a91e64d196a7e61'\n",
      "Skipping unrecognised entry ID: 'promoted-tweet-1656509438575149056-a91380dc3397191'\n",
      "Skipping unrecognised entry ID: 'promoted-tweet-1655830163819728906-a91d37af22ff9e3'\n",
      "Skipping unrecognised entry ID: 'promoted-tweet-1651493210911576064-a910acda9059d07'\n",
      "Skipping unrecognised entry ID: 'promoted-tweet-1648895801702375424-a9122e9b1d880e7'\n",
      "Skipping unrecognised entry ID: 'promoted-tweet-1607488378693378049-a9142bb8f64d757'\n",
      "Skipping unrecognised entry ID: 'promoted-tweet-1651493210911576064-a91c33feab6aea1'\n",
      "Skipping unrecognised entry ID: 'promoted-tweet-1653610333909467136-a91ba42f6edc78d'\n",
      "Skipping unrecognised entry ID: 'promoted-tweet-1651493149800529926-a9189b6b06d2989'\n",
      "query:  84%|████████▎ | 56/67 [04:44<01:21,  7.38s/it]"
     ]
    },
    {
     "name": "stdout",
     "output_type": "stream",
     "text": [
      "update -> date : 7 ,\n",
      " limit : 100\n",
      "start #galaxillust...\n"
     ]
    },
    {
     "name": "stderr",
     "output_type": "stream",
     "text": [
      "Skipping unrecognised entry ID: 'promoted-tweet-1651493149800529926-a910ee18f2dc22a'\n",
      "Skipping unrecognised entry ID: 'promoted-tweet-1656947329826709504-a91c702ddcb98a5'\n",
      "Skipping unrecognised entry ID: 'promoted-tweet-1649442880312819712-a914db140c67db3'\n",
      "Skipping unrecognised entry ID: 'promoted-tweet-1654528689881874432-a91b3c7c5f91d6a'\n",
      "Skipping unrecognised entry ID: 'promoted-tweet-1656178972940705792-a912d6594eb39ea'\n",
      "query:  85%|████████▌ | 57/67 [04:45<00:56,  5.62s/it]"
     ]
    },
    {
     "name": "stdout",
     "output_type": "stream",
     "text": [
      "update -> date : 7 ,\n",
      " limit : 100\n",
      "start #FineFaunart...\n"
     ]
    },
    {
     "name": "stderr",
     "output_type": "stream",
     "text": [
      "Skipping unrecognised entry ID: 'promoted-tweet-1648895801702375424-a91736ec49409ee'\n",
      "Skipping unrecognised entry ID: 'promoted-tweet-1655882808017973248-a918c59b4224e96'\n",
      "Skipping unrecognised entry ID: 'promoted-tweet-1607488378693378049-a91367beadf4df0'\n",
      "Skipping unrecognised entry ID: 'promoted-tweet-1651493149800529926-a91a0fe00f165a9'\n",
      "Skipping unrecognised entry ID: 'promoted-tweet-1607488378693378049-a91439866e669a7'\n",
      "Skipping unrecognised entry ID: 'promoted-tweet-1655830163819728906-a9128075694b55d'\n",
      "Skipping unrecognised entry ID: 'promoted-tweet-1653610333909467136-a91ed53979ac782'\n",
      "Skipping unrecognised entry ID: 'promoted-tweet-1607488378693378049-a91166f1d8fb2cc'\n",
      "Skipping unrecognised entry ID: 'promoted-tweet-1656690632356950016-a91685dae2c9839'\n",
      "Skipping unrecognised entry ID: 'promoted-tweet-1651493149800529926-a91776d690a5f60'\n",
      "Skipping unrecognised entry ID: 'promoted-tweet-1648895801702375424-a9154c0f7118811'\n",
      "Skipping unrecognised entry ID: 'promoted-tweet-1656266235598848003-a913203aaa1f29d'\n",
      "Skipping unrecognised entry ID: 'promoted-tweet-1648895801702375424-a916cdedcca3a47'\n",
      "Skipping unrecognised entry ID: 'promoted-tweet-1654398661185638402-a91cf25329f0694'\n",
      "Skipping unrecognised entry ID: 'promoted-tweet-1651493210911576064-a91481e812f88b4'\n",
      "Skipping unrecognised entry ID: 'promoted-tweet-1648895801702375424-a91f9071cf3cd8c'\n",
      "Skipping unrecognised entry ID: 'promoted-tweet-1655882808017973248-a91c0365634b2b3'\n",
      "Skipping unrecognised entry ID: 'promoted-tweet-1579467865916604417-a919e63e76695bb'\n",
      "Skipping unrecognised entry ID: 'promoted-tweet-1653610333909467136-a9154f5201249b2'\n",
      "Skipping unrecognised entry ID: 'promoted-tweet-1651493149800529926-a91684957a90712'\n",
      "Skipping unrecognised entry ID: 'promoted-tweet-1607488378693378049-a910b8fca973709'\n",
      "Skipping unrecognised entry ID: 'promoted-tweet-1651493149800529926-a917bdfda8bb44f'\n",
      "Skipping unrecognised entry ID: 'promoted-tweet-1607488378693378049-a91120c364c3903'\n",
      "query:  87%|████████▋ | 58/67 [04:51<00:50,  5.61s/it]"
     ]
    },
    {
     "name": "stdout",
     "output_type": "stream",
     "text": [
      "Tweet count : 100update -> date : 7 ,\n",
      " limit : 100\n",
      "start #kronillust...\n"
     ]
    },
    {
     "name": "stderr",
     "output_type": "stream",
     "text": [
      "Skipping unrecognised entry ID: 'promoted-tweet-1656690632356950016-a91853a18e24c07'\n",
      "Skipping unrecognised entry ID: 'promoted-tweet-1654750469019844609-a915156b690e2d3'\n",
      "Skipping unrecognised entry ID: 'promoted-tweet-1652689277023838208-a91d855b4a27961'\n",
      "Skipping unrecognised entry ID: 'promoted-tweet-1656529566859665408-a91295742b8a823'\n",
      "Skipping unrecognised entry ID: 'promoted-tweet-1653610333909467136-a91bda8fc4ea409'\n",
      "Skipping unrecognised entry ID: 'promoted-tweet-1648895801702375424-a91352d5398d906'\n",
      "Skipping unrecognised entry ID: 'promoted-tweet-1607488378693378049-a910ce04456cc58'\n",
      "Skipping unrecognised entry ID: 'promoted-tweet-1651493210911576064-a91350366deab8e'\n",
      "Skipping unrecognised entry ID: 'promoted-tweet-1652878005738299394-a91ceed60bd978b'\n",
      "Skipping unrecognised entry ID: 'promoted-tweet-1607488378693378049-a9111f036633035'\n",
      "Skipping unrecognised entry ID: 'promoted-tweet-1654398661185638402-a91a519cd1cc964'\n",
      "Skipping unrecognised entry ID: 'promoted-tweet-1648886682702483457-a91447aa350bc7e'\n",
      "Skipping unrecognised entry ID: 'promoted-tweet-1653610333909467136-a913a8dfe8ac154'\n",
      "Skipping unrecognised entry ID: 'promoted-tweet-1651493149800529926-a9168b9e119f8a7'\n",
      "Skipping unrecognised entry ID: 'promoted-tweet-1655830163819728906-a9156d12f2b240b'\n",
      "Skipping unrecognised entry ID: 'promoted-tweet-1651493210911576064-a917ce108986799'\n",
      "Skipping unrecognised entry ID: 'promoted-tweet-1648886682702483457-a91a29d55f57136'\n",
      "Skipping unrecognised entry ID: 'promoted-tweet-1651370347047030787-a916c025a433276'\n",
      "Skipping unrecognised entry ID: 'promoted-tweet-1652878006711615489-a912aabeb4fc928'\n",
      "Skipping unrecognised entry ID: 'promoted-tweet-1648895801702375424-a910579af06538b'\n",
      "Skipping unrecognised entry ID: 'promoted-tweet-1651493210911576064-a917740e71bd5bd'\n",
      "query:  88%|████████▊ | 59/67 [04:56<00:43,  5.41s/it]"
     ]
    },
    {
     "name": "stdout",
     "output_type": "stream",
     "text": [
      "Tweet count : 100update -> date : 7 ,\n",
      " limit : 100\n",
      "start #クロニーラスト...\n"
     ]
    },
    {
     "name": "stderr",
     "output_type": "stream",
     "text": [
      "Skipping unrecognised entry ID: 'promoted-tweet-1651493149800529926-a91bb65cd68da35'\n",
      "query:  90%|████████▉ | 60/67 [04:56<00:28,  4.05s/it]"
     ]
    },
    {
     "name": "stdout",
     "output_type": "stream",
     "text": [
      "update -> date : 7 ,\n",
      " limit : 100\n",
      "start #drawMEI...\n"
     ]
    },
    {
     "name": "stderr",
     "output_type": "stream",
     "text": [
      "Skipping unrecognised entry ID: 'promoted-tweet-1653610333909467136-a91b5fb7e25d052'\n",
      "Skipping unrecognised entry ID: 'promoted-tweet-1648895801702375424-a9158c13aff10e7'\n",
      "Skipping unrecognised entry ID: 'promoted-tweet-1651493210911576064-a919b931110f7c3'\n",
      "Skipping unrecognised entry ID: 'promoted-tweet-1607488378693378049-a9135b9b82ea24d'\n",
      "Skipping unrecognised entry ID: 'promoted-tweet-1648895801702375424-a919f183c5af9cb'\n",
      "Skipping unrecognised entry ID: 'promoted-tweet-1656947329826709504-a91f7dddc0c018d'\n",
      "Skipping unrecognised entry ID: 'promoted-tweet-1648895801702375424-a919f1b6f97368e'\n",
      "Skipping unrecognised entry ID: 'promoted-tweet-1656245194067705856-a9160109443fa18'\n",
      "Skipping unrecognised entry ID: 'promoted-tweet-1647797591290302465-a91b5e257632caf'\n",
      "Skipping unrecognised entry ID: 'promoted-tweet-1651493149800529926-a91a3ef3f8a7628'\n",
      "Skipping unrecognised entry ID: 'promoted-tweet-1607488378693378049-a915a8727a18067'\n",
      "Skipping unrecognised entry ID: 'promoted-tweet-1652878006711615489-a917e5af5d35558'\n",
      "Skipping unrecognised entry ID: 'promoted-tweet-1649246579260555265-a918ebbfc7c5970'\n",
      "Skipping unrecognised entry ID: 'promoted-tweet-1648895801702375424-a910d3b3967da31'\n",
      "Skipping unrecognised entry ID: 'promoted-tweet-1655878504599420930-a912a3a370e1508'\n",
      "Skipping unrecognised entry ID: 'promoted-tweet-1649246579260555265-a912ab95f605411'\n",
      "Skipping unrecognised entry ID: 'promoted-tweet-1651493149800529926-a91ca53002e2b81'\n",
      "Skipping unrecognised entry ID: 'promoted-tweet-1655830163819728906-a91a29c66dbde3b'\n",
      "Skipping unrecognised entry ID: 'promoted-tweet-1651493149800529926-a91f7824ce69a25'\n",
      "Skipping unrecognised entry ID: 'promoted-tweet-1607488378693378049-a91b80f2d390a94'\n",
      "Skipping unrecognised entry ID: 'promoted-tweet-1656690632356950016-a91acf28244ae78'\n",
      "query:  91%|█████████ | 61/67 [05:01<00:25,  4.29s/it]"
     ]
    },
    {
     "name": "stdout",
     "output_type": "stream",
     "text": [
      "Tweet count : 100update -> date : 7 ,\n",
      " limit : 100\n",
      "start #ムメ絵...\n"
     ]
    },
    {
     "name": "stderr",
     "output_type": "stream",
     "text": [
      "Skipping unrecognised entry ID: 'promoted-tweet-1653610333909467136-a918141379009ca'\n",
      "Skipping unrecognised entry ID: 'promoted-tweet-1651493149800529926-a916a4f0be518b7'\n",
      "query:  93%|█████████▎| 62/67 [05:02<00:16,  3.26s/it]"
     ]
    },
    {
     "name": "stdout",
     "output_type": "stream",
     "text": [
      "update -> date : 7 ,\n",
      " limit : 100\n",
      "start #illustrayBAE...\n"
     ]
    },
    {
     "name": "stderr",
     "output_type": "stream",
     "text": [
      "Skipping unrecognised entry ID: 'promoted-tweet-1653610333909467136-a91af23fc80d19b'\n",
      "Skipping unrecognised entry ID: 'promoted-tweet-1651493149800529926-a91f1301f70ec91'\n",
      "Skipping unrecognised entry ID: 'promoted-tweet-1648895801702375424-a912b3a424c08aa'\n",
      "query:  94%|█████████▍| 63/67 [05:03<00:10,  2.67s/it]"
     ]
    },
    {
     "name": "stdout",
     "output_type": "stream",
     "text": [
      "update -> date : 7 ,\n",
      " limit : 100\n",
      "start #ベーアート...\n"
     ]
    },
    {
     "name": "stderr",
     "output_type": "stream",
     "text": [
      "Skipping unrecognised entry ID: 'promoted-tweet-1651493149800529926-a91e367f77e696e'\n",
      "Skipping unrecognised entry ID: 'promoted-tweet-1607488378693378049-a91efb9eb750a56'\n",
      "query:  96%|█████████▌| 64/67 [05:04<00:06,  2.09s/it]"
     ]
    },
    {
     "name": "stdout",
     "output_type": "stream",
     "text": [
      "update -> date : 7 ,\n",
      " limit : 100\n",
      "start #faunline...\n"
     ]
    },
    {
     "name": "stderr",
     "output_type": "stream",
     "text": [
      "Skipping unrecognised entry ID: 'promoted-tweet-1651493149800529926-a91aee8ca9fdfd7'\n",
      "Skipping unrecognised entry ID: 'promoted-tweet-1650530036707913729-a91e02efeaf936e'\n",
      "Skipping unrecognised entry ID: 'promoted-tweet-1656509437798936576-a91ae74176f8372'\n",
      "Skipping unrecognised entry ID: 'promoted-tweet-1656509439225249793-a91a97046c3ba64'\n",
      "Skipping unrecognised entry ID: 'promoted-tweet-1657053029118377998-a91dfa3a80534fb'\n",
      "Skipping unrecognised entry ID: 'promoted-tweet-1651493210911576064-a919413f8bdbec6'\n",
      "Skipping unrecognised entry ID: 'promoted-tweet-1653610333909467136-a916839bf7104b2'\n",
      "Skipping unrecognised entry ID: 'promoted-tweet-1651493149800529926-a915825f761f480'\n",
      "Skipping unrecognised entry ID: 'promoted-tweet-1648895801702375424-a9180452945c976'\n",
      "Skipping unrecognised entry ID: 'promoted-tweet-1607488378693378049-a9135803608a527'\n",
      "Skipping unrecognised entry ID: 'promoted-tweet-1655830163819728906-a9144c796030d80'\n",
      "Skipping unrecognised entry ID: 'promoted-tweet-1651493210911576064-a912983e7de3d74'\n",
      "Skipping unrecognised entry ID: 'promoted-tweet-1655830163819728906-a914d7712b1efc9'\n",
      "Skipping unrecognised entry ID: 'promoted-tweet-1654750469019844609-a9150f1ab1f7725'\n",
      "Skipping unrecognised entry ID: 'promoted-tweet-1647797591290302465-a910f95b2bbf040'\n",
      "query:  97%|█████████▋| 65/67 [05:08<00:05,  2.50s/it]"
     ]
    },
    {
     "name": "stdout",
     "output_type": "stream",
     "text": [
      "update -> date : 7 ,\n",
      " limit : 100\n",
      "start #絵ーちゃん...\n"
     ]
    },
    {
     "name": "stderr",
     "output_type": "stream",
     "text": [
      "Skipping unrecognised entry ID: 'promoted-tweet-1651493149800529926-a91376ebb5f1ba0'\n",
      "Skipping unrecognised entry ID: 'promoted-tweet-1650530036707913729-a916e60af85621d'\n",
      "Skipping unrecognised entry ID: 'promoted-tweet-1654398661185638402-a919773ca59335c'\n",
      "Skipping unrecognised entry ID: 'promoted-tweet-1653610333909467136-a91fbf305bb2947'\n",
      "Skipping unrecognised entry ID: 'promoted-tweet-1655830163819728906-a9185306f244749'\n",
      "Skipping unrecognised entry ID: 'promoted-tweet-1654528689881874432-a91a5e7cecd4075'\n",
      "query:  99%|█████████▊| 66/67 [05:09<00:02,  2.22s/it]"
     ]
    },
    {
     "name": "stdout",
     "output_type": "stream",
     "text": [
      "update -> date : 7 ,\n",
      " limit : 100\n",
      "start #のどかあーと...\n"
     ]
    },
    {
     "name": "stderr",
     "output_type": "stream",
     "text": [
      "Skipping unrecognised entry ID: 'promoted-tweet-1651493149800529926-a91554b8e192a79'\n",
      "Skipping unrecognised entry ID: 'promoted-tweet-1654398661185638402-a91959931695f77'\n",
      "Skipping unrecognised entry ID: 'promoted-tweet-1648886682702483457-a91dca1f0f2441c'\n",
      "Skipping unrecognised entry ID: 'promoted-tweet-1652878006711615489-a9166b764e463e7'\n",
      "query: 100%|██████████| 67/67 [05:11<00:00,  4.65s/it]\n"
     ]
    }
   ],
   "source": [
    "scraper = moti.Scraper()\n",
    "scraper.holo_scraper(date=7,limit=100)"
   ]
  },
  {
   "cell_type": "code",
   "execution_count": 3,
   "metadata": {},
   "outputs": [
    {
     "name": "stderr",
     "output_type": "stream",
     "text": [
      "query:   0%|          | 0/67 [00:00<?, ?it/s]"
     ]
    },
    {
     "name": "stdout",
     "output_type": "stream",
     "text": [
      " index -> 19/85"
     ]
    },
    {
     "name": "stderr",
     "output_type": "stream",
     "text": []
    },
    {
     "name": "stdout",
     "output_type": "stream",
     "text": [
      " index -> 23/85"
     ]
    },
    {
     "name": "stderr",
     "output_type": "stream",
     "text": []
    },
    {
     "name": "stdout",
     "output_type": "stream",
     "text": [
      " index -> 25/85"
     ]
    },
    {
     "name": "stderr",
     "output_type": "stream",
     "text": []
    },
    {
     "name": "stdout",
     "output_type": "stream",
     "text": [
      " index -> 26/85"
     ]
    },
    {
     "name": "stderr",
     "output_type": "stream",
     "text": []
    },
    {
     "name": "stdout",
     "output_type": "stream",
     "text": [
      " index -> 27/85"
     ]
    },
    {
     "name": "stderr",
     "output_type": "stream",
     "text": []
    },
    {
     "name": "stdout",
     "output_type": "stream",
     "text": [
      " index -> 28/85"
     ]
    },
    {
     "name": "stderr",
     "output_type": "stream",
     "text": []
    },
    {
     "name": "stdout",
     "output_type": "stream",
     "text": [
      " index -> 29/85"
     ]
    },
    {
     "name": "stderr",
     "output_type": "stream",
     "text": []
    },
    {
     "name": "stdout",
     "output_type": "stream",
     "text": [
      " index -> 30/85"
     ]
    },
    {
     "name": "stderr",
     "output_type": "stream",
     "text": []
    },
    {
     "name": "stdout",
     "output_type": "stream",
     "text": [
      " index -> 31/85"
     ]
    },
    {
     "name": "stderr",
     "output_type": "stream",
     "text": []
    },
    {
     "name": "stdout",
     "output_type": "stream",
     "text": [
      " index -> 32/85"
     ]
    },
    {
     "name": "stderr",
     "output_type": "stream",
     "text": []
    },
    {
     "name": "stdout",
     "output_type": "stream",
     "text": [
      " index -> 33/85"
     ]
    },
    {
     "name": "stderr",
     "output_type": "stream",
     "text": []
    },
    {
     "name": "stdout",
     "output_type": "stream",
     "text": [
      " index -> 34/85"
     ]
    },
    {
     "name": "stderr",
     "output_type": "stream",
     "text": []
    },
    {
     "name": "stdout",
     "output_type": "stream",
     "text": [
      " index -> 35/85"
     ]
    },
    {
     "name": "stderr",
     "output_type": "stream",
     "text": []
    },
    {
     "name": "stdout",
     "output_type": "stream",
     "text": [
      " index -> 36/85"
     ]
    },
    {
     "name": "stderr",
     "output_type": "stream",
     "text": []
    },
    {
     "name": "stdout",
     "output_type": "stream",
     "text": [
      " index -> 37/85"
     ]
    },
    {
     "name": "stderr",
     "output_type": "stream",
     "text": []
    },
    {
     "name": "stdout",
     "output_type": "stream",
     "text": [
      " index -> 38/85"
     ]
    },
    {
     "name": "stderr",
     "output_type": "stream",
     "text": []
    },
    {
     "name": "stdout",
     "output_type": "stream",
     "text": [
      " index -> 39/85"
     ]
    },
    {
     "name": "stderr",
     "output_type": "stream",
     "text": []
    },
    {
     "name": "stdout",
     "output_type": "stream",
     "text": [
      " index -> 40/85"
     ]
    },
    {
     "name": "stderr",
     "output_type": "stream",
     "text": []
    },
    {
     "name": "stdout",
     "output_type": "stream",
     "text": [
      " index -> 41/85"
     ]
    },
    {
     "name": "stderr",
     "output_type": "stream",
     "text": [
      "image DL:  48%|████▊     | 41/85 [00:29<00:32,  1.37it/s]\n",
      "query:   0%|          | 0/67 [00:29<?, ?it/s]\n"
     ]
    },
    {
     "ename": "KeyboardInterrupt",
     "evalue": "",
     "output_type": "error",
     "traceback": [
      "\u001b[1;31m---------------------------------------------------------------------------\u001b[0m",
      "\u001b[1;31mKeyboardInterrupt\u001b[0m                         Traceback (most recent call last)",
      "\u001b[1;32m~\\AppData\\Local\\Temp\\ipykernel_12780\\3304550277.py\u001b[0m in \u001b[0;36m<module>\u001b[1;34m\u001b[0m\n\u001b[0;32m      1\u001b[0m \u001b[0mdownloader\u001b[0m \u001b[1;33m=\u001b[0m \u001b[0mmoti\u001b[0m\u001b[1;33m.\u001b[0m\u001b[0mDownloader\u001b[0m\u001b[1;33m(\u001b[0m\u001b[1;33m)\u001b[0m\u001b[1;33m\u001b[0m\u001b[1;33m\u001b[0m\u001b[0m\n\u001b[1;32m----> 2\u001b[1;33m \u001b[0mdownloader\u001b[0m\u001b[1;33m.\u001b[0m\u001b[0mholo_downloader\u001b[0m\u001b[1;33m(\u001b[0m\u001b[1;33m)\u001b[0m\u001b[1;33m\u001b[0m\u001b[1;33m\u001b[0m\u001b[0m\n\u001b[0m",
      "\u001b[1;32mf:\\git\\motitter_v2\\src\\moti.py\u001b[0m in \u001b[0;36mholo_downloader\u001b[1;34m(self)\u001b[0m\n\u001b[0;32m     40\u001b[0m             \u001b[0mcsv_path\u001b[0m \u001b[1;33m=\u001b[0m \u001b[0moutput\u001b[0m\u001b[1;33m.\u001b[0m\u001b[0mholo_database\u001b[0m\u001b[1;33m(\u001b[0m\u001b[0mquery\u001b[0m\u001b[1;33m)\u001b[0m\u001b[1;33m\u001b[0m\u001b[1;33m\u001b[0m\u001b[0m\n\u001b[0;32m     41\u001b[0m             \u001b[0mdf\u001b[0m \u001b[1;33m=\u001b[0m \u001b[0mpd\u001b[0m\u001b[1;33m.\u001b[0m\u001b[0mread_csv\u001b[0m\u001b[1;33m(\u001b[0m\u001b[0mcsv_path\u001b[0m\u001b[1;33m)\u001b[0m\u001b[1;33m\u001b[0m\u001b[1;33m\u001b[0m\u001b[0m\n\u001b[1;32m---> 42\u001b[1;33m             \u001b[0mdownload\u001b[0m\u001b[1;33m.\u001b[0m\u001b[0mimage_download\u001b[0m\u001b[1;33m(\u001b[0m\u001b[0mquery\u001b[0m\u001b[1;33m,\u001b[0m \u001b[1;34m\"holo\"\u001b[0m\u001b[1;33m,\u001b[0m \u001b[0mdf\u001b[0m\u001b[1;33m)\u001b[0m\u001b[1;33m\u001b[0m\u001b[1;33m\u001b[0m\u001b[0m\n\u001b[0m\u001b[0;32m     43\u001b[0m \u001b[1;33m\u001b[0m\u001b[0m\n\u001b[0;32m     44\u001b[0m     \u001b[1;32mdef\u001b[0m \u001b[0muser_downloader\u001b[0m\u001b[1;33m(\u001b[0m\u001b[0mself\u001b[0m\u001b[1;33m,\u001b[0m \u001b[0mquery\u001b[0m\u001b[1;33m:\u001b[0m \u001b[0mstr\u001b[0m\u001b[1;33m,\u001b[0m \u001b[0mdf\u001b[0m\u001b[1;33m=\u001b[0m\u001b[1;32mNone\u001b[0m\u001b[1;33m)\u001b[0m\u001b[1;33m:\u001b[0m\u001b[1;33m\u001b[0m\u001b[1;33m\u001b[0m\u001b[0m\n",
      "\u001b[1;32mf:\\git\\motitter_v2\\src\\download.py\u001b[0m in \u001b[0;36mimage_download\u001b[1;34m(query, mode, tweet_df)\u001b[0m\n\u001b[0;32m    191\u001b[0m                 \u001b[1;32mtry\u001b[0m\u001b[1;33m:\u001b[0m\u001b[1;33m\u001b[0m\u001b[1;33m\u001b[0m\u001b[0m\n\u001b[0;32m    192\u001b[0m                     \u001b[0mdownload\u001b[0m\u001b[1;33m(\u001b[0m\u001b[0murl\u001b[0m\u001b[1;33m,\u001b[0m \u001b[0msave_path\u001b[0m\u001b[1;33m)\u001b[0m\u001b[1;33m\u001b[0m\u001b[1;33m\u001b[0m\u001b[0m\n\u001b[1;32m--> 193\u001b[1;33m                 \u001b[1;32mexcept\u001b[0m \u001b[0mException\u001b[0m \u001b[1;32mas\u001b[0m \u001b[0me\u001b[0m\u001b[1;33m:\u001b[0m\u001b[1;33m\u001b[0m\u001b[1;33m\u001b[0m\u001b[0m\n\u001b[0m\u001b[0;32m    194\u001b[0m                     \u001b[0mprint\u001b[0m\u001b[1;33m(\u001b[0m\u001b[0me\u001b[0m\u001b[1;33m)\u001b[0m\u001b[1;33m\u001b[0m\u001b[1;33m\u001b[0m\u001b[0m\n\u001b[0;32m    195\u001b[0m                     \u001b[1;32mpass\u001b[0m\u001b[1;33m\u001b[0m\u001b[1;33m\u001b[0m\u001b[0m\n",
      "\u001b[1;32mf:\\git\\motitter_v2\\src\\download.py\u001b[0m in \u001b[0;36mdownload\u001b[1;34m(url, save_path)\u001b[0m\n\u001b[0;32m     31\u001b[0m                         \u001b[1;32mwith\u001b[0m \u001b[0mopen\u001b[0m\u001b[1;33m(\u001b[0m\u001b[0msave_path\u001b[0m\u001b[1;33m,\u001b[0m \u001b[1;34m\"wb\"\u001b[0m\u001b[1;33m)\u001b[0m \u001b[1;32mas\u001b[0m \u001b[0mf\u001b[0m\u001b[1;33m:\u001b[0m\u001b[1;33m\u001b[0m\u001b[1;33m\u001b[0m\u001b[0m\n\u001b[0;32m     32\u001b[0m                             \u001b[0mf\u001b[0m\u001b[1;33m.\u001b[0m\u001b[0mwrite\u001b[0m\u001b[1;33m(\u001b[0m\u001b[0mresponse\u001b[0m\u001b[1;33m.\u001b[0m\u001b[0mread\u001b[0m\u001b[1;33m(\u001b[0m\u001b[1;33m)\u001b[0m\u001b[1;33m)\u001b[0m\u001b[1;33m\u001b[0m\u001b[1;33m\u001b[0m\u001b[0m\n\u001b[1;32m---> 33\u001b[1;33m                             \u001b[0mtime\u001b[0m\u001b[1;33m.\u001b[0m\u001b[0msleep\u001b[0m\u001b[1;33m(\u001b[0m\u001b[1;36m0.5\u001b[0m\u001b[1;33m)\u001b[0m\u001b[1;33m\u001b[0m\u001b[1;33m\u001b[0m\u001b[0m\n\u001b[0m\u001b[0;32m     34\u001b[0m                     \u001b[1;32mexcept\u001b[0m \u001b[0mException\u001b[0m \u001b[1;32mas\u001b[0m \u001b[0me\u001b[0m\u001b[1;33m:\u001b[0m\u001b[1;33m\u001b[0m\u001b[1;33m\u001b[0m\u001b[0m\n\u001b[0;32m     35\u001b[0m                         \u001b[1;32mpass\u001b[0m\u001b[1;33m\u001b[0m\u001b[1;33m\u001b[0m\u001b[0m\n",
      "\u001b[1;31mKeyboardInterrupt\u001b[0m: "
     ]
    }
   ],
   "source": [
    "downloader = moti.Downloader()\n",
    "downloader.holo_downloader()"
   ]
  },
  {
   "attachments": {},
   "cell_type": "markdown",
   "metadata": {},
   "source": [
    "## lineのテスト"
   ]
  },
  {
   "cell_type": "code",
   "execution_count": 4,
   "metadata": {},
   "outputs": [],
   "source": [
    "import requests\n",
    "\n",
    "def message(text):\n",
    "    try:\n",
    "        # 取得したTokenを代入\n",
    "        line_notify_token = 'bLg2L6w7MhUXm5eG1Pyz6jB5IJ8PVU3anYX5FbjUbSc'\n",
    "\n",
    "        # 送信したいメッセージ\n",
    "        message = text\n",
    "\n",
    "        # Line Notifyを使った、送信部分\n",
    "        line_notify_api = 'https://notify-api.line.me/api/notify'\n",
    "        headers = {'Authorization': f'Bearer {line_notify_token}'}\n",
    "        data = {'message': f'{message}'}\n",
    "        requests.post(line_notify_api, headers=headers, data=data)\n",
    "    except:\n",
    "        pass"
   ]
  },
  {
   "cell_type": "code",
   "execution_count": 5,
   "metadata": {},
   "outputs": [],
   "source": [
    "message('test')"
   ]
  },
  {
   "cell_type": "code",
   "execution_count": null,
   "metadata": {},
   "outputs": [],
   "source": []
  }
 ],
 "metadata": {
  "kernelspec": {
   "display_name": "Python 3",
   "language": "python",
   "name": "python3"
  },
  "language_info": {
   "codemirror_mode": {
    "name": "ipython",
    "version": 3
   },
   "file_extension": ".py",
   "mimetype": "text/x-python",
   "name": "python",
   "nbconvert_exporter": "python",
   "pygments_lexer": "ipython3",
   "version": "3.9.13"
  },
  "orig_nbformat": 4
 },
 "nbformat": 4,
 "nbformat_minor": 2
}
